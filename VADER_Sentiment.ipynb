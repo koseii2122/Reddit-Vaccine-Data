{
  "nbformat": 4,
  "nbformat_minor": 0,
  "metadata": {
    "colab": {
      "name": "VADER Sentiment",
      "provenance": [],
      "authorship_tag": "ABX9TyNeHZ5RwRIPioXSdcfSgWBN",
      "include_colab_link": true
    },
    "kernelspec": {
      "name": "python3",
      "display_name": "Python 3"
    },
    "language_info": {
      "name": "python"
    }
  },
  "cells": [
    {
      "cell_type": "markdown",
      "metadata": {
        "id": "view-in-github",
        "colab_type": "text"
      },
      "source": [
        "<a href=\"https://colab.research.google.com/github/koseii2122/Reddit-Vaccine-Data/blob/main/VADER_Sentiment.ipynb\" target=\"_parent\"><img src=\"https://colab.research.google.com/assets/colab-badge.svg\" alt=\"Open In Colab\"/></a>"
      ]
    },
    {
      "cell_type": "code",
      "source": [
        "import pandas as pd\n",
        "import nltk"
      ],
      "metadata": {
        "id": "jLW9aAWaN9Z_"
      },
      "execution_count": null,
      "outputs": []
    },
    {
      "cell_type": "code",
      "source": [
        "df = pd.read_csv('premin10.csv', engine='python', encoding='utf-8', error_bad_lines=False)"
      ],
      "metadata": {
        "id": "9e7TvL4DCB6c"
      },
      "execution_count": null,
      "outputs": []
    },
    {
      "cell_type": "code",
      "source": [
        "df = df[['id', 'author', 'body_pp_4', 'subreddit', 'title']]\n",
        "df = df[df['body_pp_4'].notnull()]\n",
        "df = df.loc[:, ~df.columns.str.contains('^Unnamed')]"
      ],
      "metadata": {
        "id": "t55UHjrACB3n"
      },
      "execution_count": null,
      "outputs": []
    },
    {
      "cell_type": "code",
      "source": [
        "from nltk.sentiment.vader import SentimentIntensityAnalyzer"
      ],
      "metadata": {
        "id": "paCiDOfECB1T"
      },
      "execution_count": null,
      "outputs": []
    },
    {
      "cell_type": "code",
      "source": [
        "nltk.download('vader_lexicon')"
      ],
      "metadata": {
        "colab": {
          "base_uri": "https://localhost:8080/"
        },
        "id": "3IQIt2BFO0jZ",
        "outputId": "01979e88-0983-49d4-b3a0-2f685a63e11b"
      },
      "execution_count": null,
      "outputs": [
        {
          "output_type": "stream",
          "name": "stdout",
          "text": [
            "[nltk_data] Downloading package vader_lexicon to /root/nltk_data...\n"
          ]
        },
        {
          "output_type": "execute_result",
          "data": {
            "text/plain": [
              "True"
            ]
          },
          "metadata": {},
          "execution_count": 12
        }
      ]
    },
    {
      "cell_type": "code",
      "source": [
        "analyzer = SentimentIntensityAnalyzer()\n",
        "df['compound'] = [analyzer.polarity_scores(x)['compound'] for x in df['body_pp_4']]\n",
        "df['neg'] = [analyzer.polarity_scores(x)['neg'] for x in df['body_pp_4']]\n",
        "df['neu'] = [analyzer.polarity_scores(x)['neu'] for x in df['body_pp_4']]\n",
        "df['pos'] = [analyzer.polarity_scores(x)['pos'] for x in df['body_pp_4']]"
      ],
      "metadata": {
        "id": "E1vXosP3CBqM"
      },
      "execution_count": null,
      "outputs": []
    },
    {
      "cell_type": "code",
      "source": [
        "df"
      ],
      "metadata": {
        "colab": {
          "base_uri": "https://localhost:8080/",
          "height": 641
        },
        "id": "CSQcSF_EPBh8",
        "outputId": "9ba5b577-c843-4674-b209-b69c5b0e5899"
      },
      "execution_count": null,
      "outputs": [
        {
          "output_type": "execute_result",
          "data": {
            "text/html": [
              "\n",
              "  <div id=\"df-82771177-1b14-440e-9e8e-0081d6e234b4\">\n",
              "    <div class=\"colab-df-container\">\n",
              "      <div>\n",
              "<style scoped>\n",
              "    .dataframe tbody tr th:only-of-type {\n",
              "        vertical-align: middle;\n",
              "    }\n",
              "\n",
              "    .dataframe tbody tr th {\n",
              "        vertical-align: top;\n",
              "    }\n",
              "\n",
              "    .dataframe thead th {\n",
              "        text-align: right;\n",
              "    }\n",
              "</style>\n",
              "<table border=\"1\" class=\"dataframe\">\n",
              "  <thead>\n",
              "    <tr style=\"text-align: right;\">\n",
              "      <th></th>\n",
              "      <th>id</th>\n",
              "      <th>author</th>\n",
              "      <th>body_pp_4</th>\n",
              "      <th>subreddit</th>\n",
              "      <th>title</th>\n",
              "      <th>compound</th>\n",
              "      <th>neg</th>\n",
              "      <th>neu</th>\n",
              "      <th>pos</th>\n",
              "    </tr>\n",
              "  </thead>\n",
              "  <tbody>\n",
              "    <tr>\n",
              "      <th>0</th>\n",
              "      <td>hnlyzwu</td>\n",
              "      <td>sealandair</td>\n",
              "      <td>course emails hunt resigned knew would come ev...</td>\n",
              "      <td>CoronavirusDownunder</td>\n",
              "      <td>Emails reveal Pfizer was 'enthusiastic' to eng...</td>\n",
              "      <td>-0.4588</td>\n",
              "      <td>0.267</td>\n",
              "      <td>0.733</td>\n",
              "      <td>0.000</td>\n",
              "    </tr>\n",
              "    <tr>\n",
              "      <th>1</th>\n",
              "      <td>hnlj73o</td>\n",
              "      <td>clementjohnson1963</td>\n",
              "      <td>scomo fucked</td>\n",
              "      <td>CoronavirusDownunder</td>\n",
              "      <td>Emails reveal Pfizer was 'enthusiastic' to eng...</td>\n",
              "      <td>-0.6597</td>\n",
              "      <td>0.815</td>\n",
              "      <td>0.185</td>\n",
              "      <td>0.000</td>\n",
              "    </tr>\n",
              "    <tr>\n",
              "      <th>2</th>\n",
              "      <td>hnn53y2</td>\n",
              "      <td>VolcanicBosnian</td>\n",
              "      <td>imagine lockdown could avoided slime minister ...</td>\n",
              "      <td>CoronavirusDownunder</td>\n",
              "      <td>Emails reveal Pfizer was 'enthusiastic' to eng...</td>\n",
              "      <td>-0.3400</td>\n",
              "      <td>0.211</td>\n",
              "      <td>0.789</td>\n",
              "      <td>0.000</td>\n",
              "    </tr>\n",
              "    <tr>\n",
              "      <th>3</th>\n",
              "      <td>hnn6z8j</td>\n",
              "      <td>AussieCollector</td>\n",
              "      <td>really hope fuck cost scomo lnp election knowi...</td>\n",
              "      <td>CoronavirusDownunder</td>\n",
              "      <td>Emails reveal Pfizer was 'enthusiastic' to eng...</td>\n",
              "      <td>-0.5401</td>\n",
              "      <td>0.351</td>\n",
              "      <td>0.503</td>\n",
              "      <td>0.146</td>\n",
              "    </tr>\n",
              "    <tr>\n",
              "      <th>4</th>\n",
              "      <td>hnn0wc9</td>\n",
              "      <td>hu_he</td>\n",
              "      <td>would lot easier forgive governments stuff ord...</td>\n",
              "      <td>CoronavirusDownunder</td>\n",
              "      <td>Emails reveal Pfizer was 'enthusiastic' to eng...</td>\n",
              "      <td>0.4404</td>\n",
              "      <td>0.212</td>\n",
              "      <td>0.415</td>\n",
              "      <td>0.373</td>\n",
              "    </tr>\n",
              "    <tr>\n",
              "      <th>...</th>\n",
              "      <td>...</td>\n",
              "      <td>...</td>\n",
              "      <td>...</td>\n",
              "      <td>...</td>\n",
              "      <td>...</td>\n",
              "      <td>...</td>\n",
              "      <td>...</td>\n",
              "      <td>...</td>\n",
              "      <td>...</td>\n",
              "    </tr>\n",
              "    <tr>\n",
              "      <th>126182</th>\n",
              "      <td>hnt38as</td>\n",
              "      <td>The_Limpet</td>\n",
              "      <td>caduceus two spore druid cleric overcoat</td>\n",
              "      <td>criticalrole</td>\n",
              "      <td>[Spoilers C3E6] Recurring themes with the cast...</td>\n",
              "      <td>0.0000</td>\n",
              "      <td>0.000</td>\n",
              "      <td>1.000</td>\n",
              "      <td>0.000</td>\n",
              "    </tr>\n",
              "    <tr>\n",
              "      <th>126183</th>\n",
              "      <td>hnt0pf0</td>\n",
              "      <td>UncleOok</td>\n",
              "      <td>would say taliesin look novelty gunslinger est...</td>\n",
              "      <td>criticalrole</td>\n",
              "      <td>[Spoilers C3E6] Recurring themes with the cast...</td>\n",
              "      <td>0.2023</td>\n",
              "      <td>0.000</td>\n",
              "      <td>0.878</td>\n",
              "      <td>0.122</td>\n",
              "    </tr>\n",
              "    <tr>\n",
              "      <th>126184</th>\n",
              "      <td>hntdj12</td>\n",
              "      <td>BlackeeGreen</td>\n",
              "      <td>ashton definitely rogue-iest barbarian ive eve...</td>\n",
              "      <td>criticalrole</td>\n",
              "      <td>[Spoilers C3E6] Recurring themes with the cast...</td>\n",
              "      <td>0.4019</td>\n",
              "      <td>0.000</td>\n",
              "      <td>0.690</td>\n",
              "      <td>0.310</td>\n",
              "    </tr>\n",
              "    <tr>\n",
              "      <th>126185</th>\n",
              "      <td>hnugkof</td>\n",
              "      <td>geckothegeek42</td>\n",
              "      <td>&gt;searching positive male role model life amazi...</td>\n",
              "      <td>criticalrole</td>\n",
              "      <td>[Spoilers C3E6] Recurring themes with the cast...</td>\n",
              "      <td>0.9001</td>\n",
              "      <td>0.000</td>\n",
              "      <td>0.476</td>\n",
              "      <td>0.524</td>\n",
              "    </tr>\n",
              "    <tr>\n",
              "      <th>126186</th>\n",
              "      <td>hntah3e</td>\n",
              "      <td>Think-Ad-7612</td>\n",
              "      <td>oh yes thanks noticed that never heard term \"m...</td>\n",
              "      <td>criticalrole</td>\n",
              "      <td>[Spoilers C3E6] Recurring themes with the cast...</td>\n",
              "      <td>0.6808</td>\n",
              "      <td>0.000</td>\n",
              "      <td>0.682</td>\n",
              "      <td>0.318</td>\n",
              "    </tr>\n",
              "  </tbody>\n",
              "</table>\n",
              "<p>126099 rows × 9 columns</p>\n",
              "</div>\n",
              "      <button class=\"colab-df-convert\" onclick=\"convertToInteractive('df-82771177-1b14-440e-9e8e-0081d6e234b4')\"\n",
              "              title=\"Convert this dataframe to an interactive table.\"\n",
              "              style=\"display:none;\">\n",
              "        \n",
              "  <svg xmlns=\"http://www.w3.org/2000/svg\" height=\"24px\"viewBox=\"0 0 24 24\"\n",
              "       width=\"24px\">\n",
              "    <path d=\"M0 0h24v24H0V0z\" fill=\"none\"/>\n",
              "    <path d=\"M18.56 5.44l.94 2.06.94-2.06 2.06-.94-2.06-.94-.94-2.06-.94 2.06-2.06.94zm-11 1L8.5 8.5l.94-2.06 2.06-.94-2.06-.94L8.5 2.5l-.94 2.06-2.06.94zm10 10l.94 2.06.94-2.06 2.06-.94-2.06-.94-.94-2.06-.94 2.06-2.06.94z\"/><path d=\"M17.41 7.96l-1.37-1.37c-.4-.4-.92-.59-1.43-.59-.52 0-1.04.2-1.43.59L10.3 9.45l-7.72 7.72c-.78.78-.78 2.05 0 2.83L4 21.41c.39.39.9.59 1.41.59.51 0 1.02-.2 1.41-.59l7.78-7.78 2.81-2.81c.8-.78.8-2.07 0-2.86zM5.41 20L4 18.59l7.72-7.72 1.47 1.35L5.41 20z\"/>\n",
              "  </svg>\n",
              "      </button>\n",
              "      \n",
              "  <style>\n",
              "    .colab-df-container {\n",
              "      display:flex;\n",
              "      flex-wrap:wrap;\n",
              "      gap: 12px;\n",
              "    }\n",
              "\n",
              "    .colab-df-convert {\n",
              "      background-color: #E8F0FE;\n",
              "      border: none;\n",
              "      border-radius: 50%;\n",
              "      cursor: pointer;\n",
              "      display: none;\n",
              "      fill: #1967D2;\n",
              "      height: 32px;\n",
              "      padding: 0 0 0 0;\n",
              "      width: 32px;\n",
              "    }\n",
              "\n",
              "    .colab-df-convert:hover {\n",
              "      background-color: #E2EBFA;\n",
              "      box-shadow: 0px 1px 2px rgba(60, 64, 67, 0.3), 0px 1px 3px 1px rgba(60, 64, 67, 0.15);\n",
              "      fill: #174EA6;\n",
              "    }\n",
              "\n",
              "    [theme=dark] .colab-df-convert {\n",
              "      background-color: #3B4455;\n",
              "      fill: #D2E3FC;\n",
              "    }\n",
              "\n",
              "    [theme=dark] .colab-df-convert:hover {\n",
              "      background-color: #434B5C;\n",
              "      box-shadow: 0px 1px 3px 1px rgba(0, 0, 0, 0.15);\n",
              "      filter: drop-shadow(0px 1px 2px rgba(0, 0, 0, 0.3));\n",
              "      fill: #FFFFFF;\n",
              "    }\n",
              "  </style>\n",
              "\n",
              "      <script>\n",
              "        const buttonEl =\n",
              "          document.querySelector('#df-82771177-1b14-440e-9e8e-0081d6e234b4 button.colab-df-convert');\n",
              "        buttonEl.style.display =\n",
              "          google.colab.kernel.accessAllowed ? 'block' : 'none';\n",
              "\n",
              "        async function convertToInteractive(key) {\n",
              "          const element = document.querySelector('#df-82771177-1b14-440e-9e8e-0081d6e234b4');\n",
              "          const dataTable =\n",
              "            await google.colab.kernel.invokeFunction('convertToInteractive',\n",
              "                                                     [key], {});\n",
              "          if (!dataTable) return;\n",
              "\n",
              "          const docLinkHtml = 'Like what you see? Visit the ' +\n",
              "            '<a target=\"_blank\" href=https://colab.research.google.com/notebooks/data_table.ipynb>data table notebook</a>'\n",
              "            + ' to learn more about interactive tables.';\n",
              "          element.innerHTML = '';\n",
              "          dataTable['output_type'] = 'display_data';\n",
              "          await google.colab.output.renderOutput(dataTable, element);\n",
              "          const docLink = document.createElement('div');\n",
              "          docLink.innerHTML = docLinkHtml;\n",
              "          element.appendChild(docLink);\n",
              "        }\n",
              "      </script>\n",
              "    </div>\n",
              "  </div>\n",
              "  "
            ],
            "text/plain": [
              "             id              author  ...    neu    pos\n",
              "0       hnlyzwu          sealandair  ...  0.733  0.000\n",
              "1       hnlj73o  clementjohnson1963  ...  0.185  0.000\n",
              "2       hnn53y2     VolcanicBosnian  ...  0.789  0.000\n",
              "3       hnn6z8j     AussieCollector  ...  0.503  0.146\n",
              "4       hnn0wc9               hu_he  ...  0.415  0.373\n",
              "...         ...                 ...  ...    ...    ...\n",
              "126182  hnt38as          The_Limpet  ...  1.000  0.000\n",
              "126183  hnt0pf0            UncleOok  ...  0.878  0.122\n",
              "126184  hntdj12        BlackeeGreen  ...  0.690  0.310\n",
              "126185  hnugkof      geckothegeek42  ...  0.476  0.524\n",
              "126186  hntah3e       Think-Ad-7612  ...  0.682  0.318\n",
              "\n",
              "[126099 rows x 9 columns]"
            ]
          },
          "metadata": {},
          "execution_count": 14
        }
      ]
    },
    {
      "cell_type": "code",
      "source": [
        "print(df['compound'].mean())\n",
        "print(df['neg'].mean())\n",
        "print(df['neu'].mean())\n",
        "print(df['pos'].mean())"
      ],
      "metadata": {
        "colab": {
          "base_uri": "https://localhost:8080/"
        },
        "id": "5D32dQW6Qn6s",
        "outputId": "02f727e9-76d6-4e96-cdf7-07f568938079"
      },
      "execution_count": null,
      "outputs": [
        {
          "output_type": "stream",
          "name": "stdout",
          "text": [
            "0.06087941141484451\n",
            "0.13565076646127366\n",
            "0.6886708459226567\n",
            "0.17463243959110936\n"
          ]
        }
      ]
    },
    {
      "cell_type": "code",
      "source": [
        "df.to_csv('sent10.csv')"
      ],
      "metadata": {
        "id": "LLUkB82dTV7V"
      },
      "execution_count": null,
      "outputs": []
    }
  ]
}