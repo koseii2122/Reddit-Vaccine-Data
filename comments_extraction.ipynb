{
  "cells": [
    {
      "cell_type": "markdown",
      "metadata": {
        "id": "view-in-github",
        "colab_type": "text"
      },
      "source": [
        "<a href=\"https://colab.research.google.com/github/koseii2122/Reddit-Vaccine-Data/blob/main/comments_extraction.ipynb\" target=\"_parent\"><img src=\"https://colab.research.google.com/assets/colab-badge.svg\" alt=\"Open In Colab\"/></a>"
      ]
    },
    {
      "cell_type": "code",
      "execution_count": null,
      "metadata": {
        "colab": {
          "base_uri": "https://localhost:8080/"
        },
        "collapsed": true,
        "id": "THnJQl9SQFmb",
        "outputId": "1dc38b81-5d31-449c-9fc6-29c3c8f20f34"
      },
      "outputs": [
        {
          "output_type": "stream",
          "name": "stdout",
          "text": [
            "Requirement already satisfied: pip in /usr/local/lib/python3.7/dist-packages (21.1.3)\n",
            "Collecting install\n",
            "  Downloading install-1.3.5-py3-none-any.whl (3.2 kB)\n",
            "Collecting praw\n",
            "  Downloading praw-7.5.0-py3-none-any.whl (176 kB)\n",
            "\u001b[K     |████████████████████████████████| 176 kB 27.5 MB/s \n",
            "\u001b[?25hCollecting update-checker>=0.18\n",
            "  Downloading update_checker-0.18.0-py3-none-any.whl (7.0 kB)\n",
            "Collecting prawcore<3,>=2.1\n",
            "  Downloading prawcore-2.3.0-py3-none-any.whl (16 kB)\n",
            "Collecting websocket-client>=0.54.0\n",
            "  Downloading websocket_client-1.2.3-py3-none-any.whl (53 kB)\n",
            "\u001b[K     |████████████████████████████████| 53 kB 1.9 MB/s \n",
            "\u001b[?25hRequirement already satisfied: requests<3.0,>=2.6.0 in /usr/local/lib/python3.7/dist-packages (from prawcore<3,>=2.1->praw) (2.23.0)\n",
            "Requirement already satisfied: urllib3!=1.25.0,!=1.25.1,<1.26,>=1.21.1 in /usr/local/lib/python3.7/dist-packages (from requests<3.0,>=2.6.0->prawcore<3,>=2.1->praw) (1.24.3)\n",
            "Requirement already satisfied: idna<3,>=2.5 in /usr/local/lib/python3.7/dist-packages (from requests<3.0,>=2.6.0->prawcore<3,>=2.1->praw) (2.10)\n",
            "Requirement already satisfied: chardet<4,>=3.0.2 in /usr/local/lib/python3.7/dist-packages (from requests<3.0,>=2.6.0->prawcore<3,>=2.1->praw) (3.0.4)\n",
            "Requirement already satisfied: certifi>=2017.4.17 in /usr/local/lib/python3.7/dist-packages (from requests<3.0,>=2.6.0->prawcore<3,>=2.1->praw) (2021.10.8)\n",
            "Installing collected packages: websocket-client, update-checker, prawcore, praw, install\n",
            "Successfully installed install-1.3.5 praw-7.5.0 prawcore-2.3.0 update-checker-0.18.0 websocket-client-1.2.3\n"
          ]
        }
      ],
      "source": [
        "pip install pip install praw"
      ]
    },
    {
      "cell_type": "code",
      "execution_count": null,
      "metadata": {
        "id": "E1rznyDKKPsI"
      },
      "outputs": [],
      "source": [
        "import requests\n",
        "import praw\n",
        "from prawcore.exceptions import Forbidden\n",
        "from praw.models import MoreComments\n",
        "import pandas as pd\n",
        "import re\n",
        "import spacy\n",
        "import csv\n",
        "import seaborn as sns\n",
        "import matplotlib.pyplot as plt\n"
      ]
    },
    {
      "cell_type": "code",
      "execution_count": null,
      "metadata": {
        "id": "zSNHGwJkQKtD"
      },
      "outputs": [],
      "source": [
        "CLIENT_ID = 'oPc_QgfH8lt-RmSjtSn-8A'\n",
        "SECRET_KEY = 'iyF7XYoETQaDMHHBicMFih5hyKFk1A'"
      ]
    },
    {
      "cell_type": "code",
      "execution_count": null,
      "metadata": {
        "id": "cDnmkl0LQM-m"
      },
      "outputs": [],
      "source": [
        "reddit = praw.Reddit(client_id = CLIENT_ID,\n",
        "                     client_secret = SECRET_KEY,\n",
        "                     user_agent = 'ua',\n",
        "                     check_for_async=False\n",
        "                    )"
      ]
    },
    {
      "cell_type": "code",
      "execution_count": null,
      "metadata": {
        "id": "DIeeVfArQPRw"
      },
      "outputs": [],
      "source": [
        "df = pd.read_csv('1.1.csv', engine='python', encoding='utf-8', error_bad_lines=False)"
      ]
    },
    {
      "cell_type": "code",
      "execution_count": null,
      "metadata": {
        "id": "pS7FmRmhXN7g"
      },
      "outputs": [],
      "source": [
        "df = df.loc[:, ~df.columns.str.contains('^Unnamed')]"
      ]
    },
    {
      "cell_type": "code",
      "execution_count": null,
      "metadata": {
        "colab": {
          "base_uri": "https://localhost:8080/",
          "height": 658
        },
        "collapsed": true,
        "id": "qqsBSwAGXbok",
        "outputId": "3516826b-23d4-49c9-b4d0-7c7168e73758"
      },
      "outputs": [
        {
          "data": {
            "text/html": [
              "\n",
              "  <div id=\"df-88dc9d57-7689-41f8-a81f-4c022feceeb7\">\n",
              "    <div class=\"colab-df-container\">\n",
              "      <div>\n",
              "<style scoped>\n",
              "    .dataframe tbody tr th:only-of-type {\n",
              "        vertical-align: middle;\n",
              "    }\n",
              "\n",
              "    .dataframe tbody tr th {\n",
              "        vertical-align: top;\n",
              "    }\n",
              "\n",
              "    .dataframe thead th {\n",
              "        text-align: right;\n",
              "    }\n",
              "</style>\n",
              "<table border=\"1\" class=\"dataframe\">\n",
              "  <thead>\n",
              "    <tr style=\"text-align: right;\">\n",
              "      <th></th>\n",
              "      <th>Unnamed: 0</th>\n",
              "      <th>id</th>\n",
              "      <th>subreddit</th>\n",
              "      <th>title</th>\n",
              "      <th>selftext</th>\n",
              "      <th>author</th>\n",
              "      <th>score</th>\n",
              "      <th>created_utc</th>\n",
              "    </tr>\n",
              "  </thead>\n",
              "  <tbody>\n",
              "    <tr>\n",
              "      <th>0</th>\n",
              "      <td>0</td>\n",
              "      <td>razzwb</td>\n",
              "      <td>CoronavirusDownunder</td>\n",
              "      <td>Emails reveal Pfizer was 'enthusiastic' to eng...</td>\n",
              "      <td>NaN</td>\n",
              "      <td>TheMania</td>\n",
              "      <td>459</td>\n",
              "      <td>1638886155</td>\n",
              "    </tr>\n",
              "    <tr>\n",
              "      <th>1</th>\n",
              "      <td>1</td>\n",
              "      <td>razlm3</td>\n",
              "      <td>science</td>\n",
              "      <td>Mixing COVID-19 vaccines, with Pfizer or Astra...</td>\n",
              "      <td>NaN</td>\n",
              "      <td>agnclay</td>\n",
              "      <td>7780</td>\n",
              "      <td>1638884938</td>\n",
              "    </tr>\n",
              "    <tr>\n",
              "      <th>2</th>\n",
              "      <td>2</td>\n",
              "      <td>ray8pl</td>\n",
              "      <td>australia</td>\n",
              "      <td>Emails reveal Pfizer was 'enthusiastic' to eng...</td>\n",
              "      <td>NaN</td>\n",
              "      <td>LocalVillageIdiot</td>\n",
              "      <td>338</td>\n",
              "      <td>1638880531</td>\n",
              "    </tr>\n",
              "    <tr>\n",
              "      <th>3</th>\n",
              "      <td>3</td>\n",
              "      <td>q28o2e</td>\n",
              "      <td>newzealand</td>\n",
              "      <td>1PM Press Conference Megathread | Prime Minist...</td>\n",
              "      <td>^(This is a call to arms, will you stand besid...</td>\n",
              "      <td>TimmyHate</td>\n",
              "      <td>149</td>\n",
              "      <td>1633477770</td>\n",
              "    </tr>\n",
              "    <tr>\n",
              "      <th>4</th>\n",
              "      <td>4</td>\n",
              "      <td>q289yu</td>\n",
              "      <td>QAnonCasualties</td>\n",
              "      <td>i got the vaccine and my qmom is freaking out</td>\n",
              "      <td>i'm really struggling right now. i am a colleg...</td>\n",
              "      <td>abbyadamsonn</td>\n",
              "      <td>100</td>\n",
              "      <td>1633476380</td>\n",
              "    </tr>\n",
              "    <tr>\n",
              "      <th>...</th>\n",
              "      <td>...</td>\n",
              "      <td>...</td>\n",
              "      <td>...</td>\n",
              "      <td>...</td>\n",
              "      <td>...</td>\n",
              "      <td>...</td>\n",
              "      <td>...</td>\n",
              "      <td>...</td>\n",
              "    </tr>\n",
              "    <tr>\n",
              "      <th>7112</th>\n",
              "      <td>7112</td>\n",
              "      <td>lt70vk</td>\n",
              "      <td>NoNewNormal</td>\n",
              "      <td>Australian crowd boos official talking about t...</td>\n",
              "      <td>NaN</td>\n",
              "      <td>DANGthatswhatshesaid</td>\n",
              "      <td>52</td>\n",
              "      <td>1614371329</td>\n",
              "    </tr>\n",
              "    <tr>\n",
              "      <th>7113</th>\n",
              "      <td>7113</td>\n",
              "      <td>o1ipiy</td>\n",
              "      <td>NoNewNormal</td>\n",
              "      <td>r/covidVaccinated is full of bad adverse effec...</td>\n",
              "      <td>What do you think about it? There are even mor...</td>\n",
              "      <td>ucanzeee</td>\n",
              "      <td>43</td>\n",
              "      <td>1623886219</td>\n",
              "    </tr>\n",
              "    <tr>\n",
              "      <th>7114</th>\n",
              "      <td>7114</td>\n",
              "      <td>o183hk</td>\n",
              "      <td>NoNewNormal</td>\n",
              "      <td>A \"Freedom Passport\" is not freedom - it's a d...</td>\n",
              "      <td>NaN</td>\n",
              "      <td>carlanpsg</td>\n",
              "      <td>55</td>\n",
              "      <td>1623858837</td>\n",
              "    </tr>\n",
              "    <tr>\n",
              "      <th>7115</th>\n",
              "      <td>7115</td>\n",
              "      <td>o007hd</td>\n",
              "      <td>NoNewNormal</td>\n",
              "      <td>Pfizer claims 100 day turn around on new varia...</td>\n",
              "      <td>NaN</td>\n",
              "      <td>TheAssOfHats</td>\n",
              "      <td>109</td>\n",
              "      <td>1623713756</td>\n",
              "    </tr>\n",
              "    <tr>\n",
              "      <th>7116</th>\n",
              "      <td>7116</td>\n",
              "      <td>o1i93i</td>\n",
              "      <td>NoNewNormal</td>\n",
              "      <td>Is anyone else being bullied/peer pressured in...</td>\n",
              "      <td>At this point everyone around me (minus maybe ...</td>\n",
              "      <td>BeepJeepMeepers</td>\n",
              "      <td>108</td>\n",
              "      <td>1623884884</td>\n",
              "    </tr>\n",
              "  </tbody>\n",
              "</table>\n",
              "<p>7117 rows × 8 columns</p>\n",
              "</div>\n",
              "      <button class=\"colab-df-convert\" onclick=\"convertToInteractive('df-88dc9d57-7689-41f8-a81f-4c022feceeb7')\"\n",
              "              title=\"Convert this dataframe to an interactive table.\"\n",
              "              style=\"display:none;\">\n",
              "        \n",
              "  <svg xmlns=\"http://www.w3.org/2000/svg\" height=\"24px\"viewBox=\"0 0 24 24\"\n",
              "       width=\"24px\">\n",
              "    <path d=\"M0 0h24v24H0V0z\" fill=\"none\"/>\n",
              "    <path d=\"M18.56 5.44l.94 2.06.94-2.06 2.06-.94-2.06-.94-.94-2.06-.94 2.06-2.06.94zm-11 1L8.5 8.5l.94-2.06 2.06-.94-2.06-.94L8.5 2.5l-.94 2.06-2.06.94zm10 10l.94 2.06.94-2.06 2.06-.94-2.06-.94-.94-2.06-.94 2.06-2.06.94z\"/><path d=\"M17.41 7.96l-1.37-1.37c-.4-.4-.92-.59-1.43-.59-.52 0-1.04.2-1.43.59L10.3 9.45l-7.72 7.72c-.78.78-.78 2.05 0 2.83L4 21.41c.39.39.9.59 1.41.59.51 0 1.02-.2 1.41-.59l7.78-7.78 2.81-2.81c.8-.78.8-2.07 0-2.86zM5.41 20L4 18.59l7.72-7.72 1.47 1.35L5.41 20z\"/>\n",
              "  </svg>\n",
              "      </button>\n",
              "      \n",
              "  <style>\n",
              "    .colab-df-container {\n",
              "      display:flex;\n",
              "      flex-wrap:wrap;\n",
              "      gap: 12px;\n",
              "    }\n",
              "\n",
              "    .colab-df-convert {\n",
              "      background-color: #E8F0FE;\n",
              "      border: none;\n",
              "      border-radius: 50%;\n",
              "      cursor: pointer;\n",
              "      display: none;\n",
              "      fill: #1967D2;\n",
              "      height: 32px;\n",
              "      padding: 0 0 0 0;\n",
              "      width: 32px;\n",
              "    }\n",
              "\n",
              "    .colab-df-convert:hover {\n",
              "      background-color: #E2EBFA;\n",
              "      box-shadow: 0px 1px 2px rgba(60, 64, 67, 0.3), 0px 1px 3px 1px rgba(60, 64, 67, 0.15);\n",
              "      fill: #174EA6;\n",
              "    }\n",
              "\n",
              "    [theme=dark] .colab-df-convert {\n",
              "      background-color: #3B4455;\n",
              "      fill: #D2E3FC;\n",
              "    }\n",
              "\n",
              "    [theme=dark] .colab-df-convert:hover {\n",
              "      background-color: #434B5C;\n",
              "      box-shadow: 0px 1px 3px 1px rgba(0, 0, 0, 0.15);\n",
              "      filter: drop-shadow(0px 1px 2px rgba(0, 0, 0, 0.3));\n",
              "      fill: #FFFFFF;\n",
              "    }\n",
              "  </style>\n",
              "\n",
              "      <script>\n",
              "        const buttonEl =\n",
              "          document.querySelector('#df-88dc9d57-7689-41f8-a81f-4c022feceeb7 button.colab-df-convert');\n",
              "        buttonEl.style.display =\n",
              "          google.colab.kernel.accessAllowed ? 'block' : 'none';\n",
              "\n",
              "        async function convertToInteractive(key) {\n",
              "          const element = document.querySelector('#df-88dc9d57-7689-41f8-a81f-4c022feceeb7');\n",
              "          const dataTable =\n",
              "            await google.colab.kernel.invokeFunction('convertToInteractive',\n",
              "                                                     [key], {});\n",
              "          if (!dataTable) return;\n",
              "\n",
              "          const docLinkHtml = 'Like what you see? Visit the ' +\n",
              "            '<a target=\"_blank\" href=https://colab.research.google.com/notebooks/data_table.ipynb>data table notebook</a>'\n",
              "            + ' to learn more about interactive tables.';\n",
              "          element.innerHTML = '';\n",
              "          dataTable['output_type'] = 'display_data';\n",
              "          await google.colab.output.renderOutput(dataTable, element);\n",
              "          const docLink = document.createElement('div');\n",
              "          docLink.innerHTML = docLinkHtml;\n",
              "          element.appendChild(docLink);\n",
              "        }\n",
              "      </script>\n",
              "    </div>\n",
              "  </div>\n",
              "  "
            ],
            "text/plain": [
              "      Unnamed: 0      id  ... score created_utc\n",
              "0              0  razzwb  ...   459  1638886155\n",
              "1              1  razlm3  ...  7780  1638884938\n",
              "2              2  ray8pl  ...   338  1638880531\n",
              "3              3  q28o2e  ...   149  1633477770\n",
              "4              4  q289yu  ...   100  1633476380\n",
              "...          ...     ...  ...   ...         ...\n",
              "7112        7112  lt70vk  ...    52  1614371329\n",
              "7113        7113  o1ipiy  ...    43  1623886219\n",
              "7114        7114  o183hk  ...    55  1623858837\n",
              "7115        7115  o007hd  ...   109  1623713756\n",
              "7116        7116  o1i93i  ...   108  1623884884\n",
              "\n",
              "[7117 rows x 8 columns]"
            ]
          },
          "execution_count": 11,
          "metadata": {},
          "output_type": "execute_result"
        }
      ],
      "source": [
        "df"
      ]
    },
    {
      "cell_type": "code",
      "execution_count": null,
      "metadata": {
        "id": "pKRvG0BFXhXF"
      },
      "outputs": [],
      "source": [
        "df.to_csv('final_submissions_7117.csv')"
      ]
    },
    {
      "cell_type": "code",
      "execution_count": null,
      "metadata": {
        "id": "HMmDztSgQqIF"
      },
      "outputs": [],
      "source": [
        "id_list = df[\"id\"].values.tolist()"
      ]
    },
    {
      "cell_type": "code",
      "execution_count": null,
      "metadata": {
        "colab": {
          "base_uri": "https://localhost:8080/"
        },
        "id": "_Ljcp1mKV4je",
        "outputId": "aac66f6a-4575-400b-a3bb-2e3410b94288"
      },
      "outputs": [
        {
          "data": {
            "text/plain": [
              "900"
            ]
          },
          "execution_count": 29,
          "metadata": {},
          "output_type": "execute_result"
        }
      ],
      "source": [
        "len(id_list)"
      ]
    },
    {
      "cell_type": "code",
      "execution_count": null,
      "metadata": {
        "colab": {
          "base_uri": "https://localhost:8080/"
        },
        "collapsed": true,
        "id": "iltTQCSnei2T",
        "outputId": "7b257c10-d7d1-4746-c43d-1062c3ffbabf"
      },
      "outputs": [
        {
          "name": "stdout",
          "output_type": "stream",
          "text": [
            "351\n"
          ]
        }
      ],
      "source": [
        "submission = reddit.submission(id=\"s8ai23\")\n",
        "submission.comments.replace_more(limit = 50)\n",
        "i = 0\n",
        "for comment in submission.comments.list():\n",
        "  i += 1\n",
        "  continue\n",
        "\n",
        "print(i)"
      ]
    },
    {
      "cell_type": "code",
      "execution_count": null,
      "metadata": {
        "colab": {
          "base_uri": "https://localhost:8080/"
        },
        "collapsed": true,
        "id": "1ECg54zHhWdy",
        "outputId": "50c921fa-ed6d-4b10-ae03-4d58c0436bb6"
      },
      "outputs": [
        {
          "data": {
            "text/plain": [
              "['MISSING_COMMENT_MESSAGE',\n",
              " 'STR_FIELD',\n",
              " '__class__',\n",
              " '__delattr__',\n",
              " '__dict__',\n",
              " '__dir__',\n",
              " '__doc__',\n",
              " '__eq__',\n",
              " '__format__',\n",
              " '__ge__',\n",
              " '__getattr__',\n",
              " '__getattribute__',\n",
              " '__gt__',\n",
              " '__hash__',\n",
              " '__init__',\n",
              " '__init_subclass__',\n",
              " '__le__',\n",
              " '__lt__',\n",
              " '__module__',\n",
              " '__ne__',\n",
              " '__new__',\n",
              " '__reduce__',\n",
              " '__reduce_ex__',\n",
              " '__repr__',\n",
              " '__setattr__',\n",
              " '__sizeof__',\n",
              " '__str__',\n",
              " '__subclasshook__',\n",
              " '__weakref__',\n",
              " '_extract_submission_id',\n",
              " '_fetch',\n",
              " '_fetch_data',\n",
              " '_fetch_info',\n",
              " '_fetched',\n",
              " '_kind',\n",
              " '_reddit',\n",
              " '_replies',\n",
              " '_reset_attributes',\n",
              " '_safely_add_arguments',\n",
              " '_submission',\n",
              " '_url_parts',\n",
              " '_vote',\n",
              " 'all_awardings',\n",
              " 'approved_at_utc',\n",
              " 'approved_by',\n",
              " 'archived',\n",
              " 'associated_award',\n",
              " 'author',\n",
              " 'author_flair_background_color',\n",
              " 'author_flair_css_class',\n",
              " 'author_flair_richtext',\n",
              " 'author_flair_template_id',\n",
              " 'author_flair_text',\n",
              " 'author_flair_text_color',\n",
              " 'author_flair_type',\n",
              " 'author_fullname',\n",
              " 'author_is_blocked',\n",
              " 'author_patreon_flair',\n",
              " 'author_premium',\n",
              " 'award',\n",
              " 'awarders',\n",
              " 'banned_at_utc',\n",
              " 'banned_by',\n",
              " 'block',\n",
              " 'body',\n",
              " 'body_html',\n",
              " 'can_gild',\n",
              " 'can_mod_post',\n",
              " 'clear_vote',\n",
              " 'collapse',\n",
              " 'collapsed',\n",
              " 'collapsed_because_crowd_control',\n",
              " 'collapsed_reason',\n",
              " 'collapsed_reason_code',\n",
              " 'comment_type',\n",
              " 'controversiality',\n",
              " 'created',\n",
              " 'created_utc',\n",
              " 'delete',\n",
              " 'depth',\n",
              " 'disable_inbox_replies',\n",
              " 'distinguished',\n",
              " 'downs',\n",
              " 'downvote',\n",
              " 'edit',\n",
              " 'edited',\n",
              " 'enable_inbox_replies',\n",
              " 'fullname',\n",
              " 'gild',\n",
              " 'gilded',\n",
              " 'gildings',\n",
              " 'id',\n",
              " 'id_from_url',\n",
              " 'is_root',\n",
              " 'is_submitter',\n",
              " 'likes',\n",
              " 'link_id',\n",
              " 'locked',\n",
              " 'mark_read',\n",
              " 'mark_unread',\n",
              " 'mod',\n",
              " 'mod_note',\n",
              " 'mod_reason_by',\n",
              " 'mod_reason_title',\n",
              " 'mod_reports',\n",
              " 'name',\n",
              " 'no_follow',\n",
              " 'num_reports',\n",
              " 'parent',\n",
              " 'parent_id',\n",
              " 'parse',\n",
              " 'permalink',\n",
              " 'refresh',\n",
              " 'removal_reason',\n",
              " 'replies',\n",
              " 'reply',\n",
              " 'report',\n",
              " 'report_reasons',\n",
              " 'save',\n",
              " 'saved',\n",
              " 'score',\n",
              " 'score_hidden',\n",
              " 'send_replies',\n",
              " 'stickied',\n",
              " 'submission',\n",
              " 'subreddit',\n",
              " 'subreddit_id',\n",
              " 'subreddit_name_prefixed',\n",
              " 'subreddit_type',\n",
              " 'top_awarded_type',\n",
              " 'total_awards_received',\n",
              " 'treatment_tags',\n",
              " 'unblock_subreddit',\n",
              " 'uncollapse',\n",
              " 'unrepliable_reason',\n",
              " 'unsave',\n",
              " 'ups',\n",
              " 'upvote',\n",
              " 'user_reports']"
            ]
          },
          "execution_count": 18,
          "metadata": {},
          "output_type": "execute_result"
        }
      ],
      "source": [
        "dir(comment)"
      ]
    },
    {
      "cell_type": "code",
      "execution_count": null,
      "metadata": {
        "id": "2ClcFQkBhWOK"
      },
      "outputs": [],
      "source": [
        "comment.comment_type"
      ]
    },
    {
      "cell_type": "code",
      "execution_count": null,
      "metadata": {
        "id": "ZXlyvcu5hwV8"
      },
      "outputs": [],
      "source": [
        ""
      ]
    },
    {
      "cell_type": "code",
      "execution_count": null,
      "metadata": {
        "id": "Ax6PTsX_VX0C"
      },
      "outputs": [],
      "source": [
        "df2 = pd.DataFrame()"
      ]
    },
    {
      "cell_type": "code",
      "execution_count": null,
      "metadata": {
        "id": "lbAIxtbr3fx8"
      },
      "outputs": [],
      "source": [
        "del df2"
      ]
    },
    {
      "cell_type": "code",
      "execution_count": null,
      "metadata": {
        "colab": {
          "base_uri": "https://localhost:8080/"
        },
        "id": "9FTykN01VOdy",
        "outputId": "16be3b31-aac6-49d9-bbb0-6b3ceb456b54"
      },
      "outputs": [
        {
          "name": "stdout",
          "output_type": "stream",
          "text": [
            "50110\n"
          ]
        }
      ],
      "source": [
        "for index, row in df.iterrows():\n",
        "\n",
        "    try:\n",
        "        submission = reddit.submission(id = row['id'])\n",
        "        submission.comments.replace_more(limit = 90)\n",
        "        for comment in submission.comments.list():\n",
        "          if (comment.score < 5): # if comment score is less than 15 - filtering out irrelevent comments\n",
        "           #if (comment.score < 0.150 * row['score'] ): # 20% \n",
        "           continue\n",
        "          df2 = df2.append({\n",
        "          # 'id' : post['data']['id'],\n",
        "          'id' : comment.id,\n",
        "          'author' : comment.author,\n",
        "          'body' : comment.body,\n",
        "          'subreddit' : row['subreddit'],\n",
        "          'score' : comment.score,\n",
        "          'created_utc' : comment.created_utc,\n",
        "          'parent_id' : comment.parent_id,\n",
        "          'title' : row['title'],\n",
        "          'ups' : comment.ups,\n",
        "          'downs' : comment.downs,\n",
        "          'controversiality' : comment.controversiality,\n",
        "          'link' : 'redd.it/' + str(comment.permalink)\n",
        "\n",
        "\n",
        "        \n",
        "        }, ignore_index = True)\n",
        "\n",
        "        \n",
        "\n",
        "    except Forbidden:\n",
        "      continue\n",
        "\n",
        "print(len(df2))\n",
        "\n",
        "\n"
      ]
    },
    {
      "cell_type": "code",
      "execution_count": null,
      "metadata": {
        "id": "Xs7kjhurh1SH"
      },
      "outputs": [],
      "source": [
        "df2.to_csv('1.1out.csv')"
      ]
    },
    {
      "cell_type": "code",
      "execution_count": null,
      "metadata": {
        "id": "tvYRyx-IuOUx"
      },
      "outputs": [],
      "source": [
        ""
      ]
    },
    {
      "cell_type": "code",
      "execution_count": null,
      "metadata": {
        "colab": {
          "background_save": true
        },
        "id": "b9OsUxpit-cI",
        "outputId": "ca0baf02-7ec6-47ec-b35f-00c2d99d6b88"
      },
      "outputs": [
        {
          "name": "stdout",
          "output_type": "stream",
          "text": [
            "47794\n"
          ]
        }
      ],
      "source": [
        "df3 = pd.DataFrame()\n",
        "\n",
        "for index, row in df.iterrows():\n",
        "\n",
        "    try:\n",
        "        submission = reddit.submission(id = row['id'])\n",
        "        submission.comments.replace_more(limit = 10)\n",
        "        for comment in submission.comments.list():\n",
        "          if (comment.score < 5): # if comment score is less than 15 - filtering out irrelevent comments\n",
        "           #if (comment.score < 0.150 * row['score'] ): # 20% \n",
        "           continue\n",
        "          df3 = df3.append({\n",
        "          # 'id' : post['data']['id'],\n",
        "          'id' : comment.id,\n",
        "          'author' : comment.author,\n",
        "          'body' : comment.body,\n",
        "          'subreddit' : row['subreddit'],\n",
        "          'score' : comment.score,\n",
        "          'created_utc' : comment.created_utc,\n",
        "          'parent_id' : comment.parent_id,\n",
        "          'title' : row['title'],\n",
        "          'ups' : comment.ups,\n",
        "          'downs' : comment.downs,\n",
        "          'controversiality' : comment.controversiality,\n",
        "          'link' : 'redd.it/' + str(comment.permalink)\n",
        "\n",
        "\n",
        "        \n",
        "        }, ignore_index = True)\n",
        "\n",
        "        \n",
        "\n",
        "    except Forbidden:\n",
        "      continue\n",
        "\n",
        "print(len(df3))\n",
        "\n",
        "\n"
      ]
    },
    {
      "cell_type": "code",
      "execution_count": null,
      "metadata": {
        "colab": {
          "base_uri": "https://localhost:8080/"
        },
        "id": "Ghpm0Cpq4VHR",
        "outputId": "65b6b8b4-d2db-41a9-99cf-159d031bb9e7"
      },
      "outputs": [
        {
          "name": "stdout",
          "output_type": "stream",
          "text": [
            "384\n"
          ]
        }
      ],
      "source": [
        "print(len(df2))"
      ]
    },
    {
      "cell_type": "code",
      "execution_count": null,
      "metadata": {
        "id": "rE6PfUHFVOGK"
      },
      "outputs": [],
      "source": [
        "690"
      ]
    },
    {
      "cell_type": "code",
      "execution_count": null,
      "metadata": {
        "id": "JFvaZbcIaauN"
      },
      "outputs": [],
      "source": [
        "df_1 = df.iloc[:900]\n",
        "df_2 = df.iloc[900:,:]\n"
      ]
    },
    {
      "cell_type": "code",
      "execution_count": null,
      "metadata": {
        "id": "81QFYnLac8XN"
      },
      "outputs": [],
      "source": [
        "df_1.to_csv('1.1.csv')\n",
        "df_2.to_csv('1.2.csv')\n",
        "\n"
      ]
    }
  ],
  "metadata": {
    "colab": {
      "collapsed_sections": [],
      "name": "comments extraction",
      "provenance": [],
      "authorship_tag": "ABX9TyPByq4xv/duyZKvvEo4DkfK",
      "include_colab_link": true
    },
    "kernelspec": {
      "display_name": "Python 3",
      "name": "python3"
    },
    "language_info": {
      "name": "python"
    }
  },
  "nbformat": 4,
  "nbformat_minor": 0
}