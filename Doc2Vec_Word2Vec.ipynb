{
  "nbformat": 4,
  "nbformat_minor": 0,
  "metadata": {
    "colab": {
      "name": "Doc2Vec Word2Vec.ipynb",
      "provenance": [],
      "collapsed_sections": [],
      "authorship_tag": "ABX9TyOPCaalfWtPL3fX7x+91Utc",
      "include_colab_link": true
    },
    "kernelspec": {
      "name": "python3",
      "display_name": "Python 3"
    },
    "language_info": {
      "name": "python"
    }
  },
  "cells": [
    {
      "cell_type": "markdown",
      "metadata": {
        "id": "view-in-github",
        "colab_type": "text"
      },
      "source": [
        "<a href=\"https://colab.research.google.com/github/koseii2122/Reddit-Vaccine-Data/blob/main/Doc2Vec_Word2Vec.ipynb\" target=\"_parent\"><img src=\"https://colab.research.google.com/assets/colab-badge.svg\" alt=\"Open In Colab\"/></a>"
      ]
    },
    {
      "cell_type": "code",
      "execution_count": null,
      "metadata": {
        "id": "ga0DTeDZt8ur"
      },
      "outputs": [],
      "source": [
        "import pandas as pd\n",
        "import numpy as np\n",
        "\n",
        "from tqdm import tqdm\n",
        "tqdm.pandas(desc=\"progress-bar\")\n",
        "from gensim.models import Doc2Vec\n",
        "from sklearn import utils\n",
        "from sklearn.model_selection import train_test_split\n",
        "import gensim\n",
        "from sklearn.linear_model import LogisticRegression\n",
        "from gensim.models.doc2vec import TaggedDocument\n",
        "import re\n",
        "import seaborn as sns\n",
        "import matplotlib.pyplot as plt"
      ]
    },
    {
      "cell_type": "code",
      "source": [
        "del df"
      ],
      "metadata": {
        "id": "PsDlI7-rBG2E"
      },
      "execution_count": null,
      "outputs": []
    },
    {
      "cell_type": "code",
      "source": [
        "df = pd.read_csv('min5.csv', engine='python', encoding='utf-8', error_bad_lines=False)"
      ],
      "metadata": {
        "id": "kxUfDczXusel"
      },
      "execution_count": null,
      "outputs": []
    },
    {
      "cell_type": "code",
      "source": [
        "df = df[['id', 'author', 'body_pp_4', 'subreddit', 'title']]"
      ],
      "metadata": {
        "id": "ghondP9ousF6"
      },
      "execution_count": null,
      "outputs": []
    },
    {
      "cell_type": "code",
      "source": [
        "df.shape"
      ],
      "metadata": {
        "colab": {
          "base_uri": "https://localhost:8080/"
        },
        "id": "Fx3aqLCsv84t",
        "outputId": "e1653364-aa43-4963-dcbf-f99750089788"
      },
      "execution_count": null,
      "outputs": [
        {
          "output_type": "execute_result",
          "data": {
            "text/plain": [
              "(220069, 5)"
            ]
          },
          "metadata": {},
          "execution_count": 5
        }
      ]
    },
    {
      "cell_type": "code",
      "source": [
        "df.dtypes"
      ],
      "metadata": {
        "colab": {
          "base_uri": "https://localhost:8080/"
        },
        "id": "d10sakCJ1t9t",
        "outputId": "b6c74196-db2d-4afa-d651-6feab881c17d"
      },
      "execution_count": null,
      "outputs": [
        {
          "output_type": "execute_result",
          "data": {
            "text/plain": [
              "id           object\n",
              "author       object\n",
              "body_pp_4    object\n",
              "subreddit    object\n",
              "title        object\n",
              "dtype: object"
            ]
          },
          "metadata": {},
          "execution_count": 37
        }
      ]
    },
    {
      "cell_type": "code",
      "source": [
        "df = df[df['body_pp_4'].notnull()]\n",
        "df.reset_index(drop=True, inplace=True)"
      ],
      "metadata": {
        "id": "iRuSYBYpGapK"
      },
      "execution_count": null,
      "outputs": []
    },
    {
      "cell_type": "code",
      "source": [
        "df['body_pp_4'].apply(lambda x: len(x.split(' '))).sum()"
      ],
      "metadata": {
        "colab": {
          "base_uri": "https://localhost:8080/"
        },
        "id": "hjqHEtRWHFxI",
        "outputId": "87e0e953-8ae9-4bd9-9572-0c4cf444d427"
      },
      "execution_count": null,
      "outputs": [
        {
          "output_type": "execute_result",
          "data": {
            "text/plain": [
              "4795313"
            ]
          },
          "metadata": {},
          "execution_count": 16
        }
      ]
    },
    {
      "cell_type": "code",
      "source": [
        "# 1,945,104 Unique words\n",
        "# 4795313"
      ],
      "metadata": {
        "id": "8qYlDLW5Hfvp"
      },
      "execution_count": null,
      "outputs": []
    },
    {
      "cell_type": "code",
      "source": [
        "def tokenize_text(text):\n",
        "    tokens = []\n",
        "    for sent in nltk.sent_tokenize(text):\n",
        "        for word in nltk.word_tokenize(sent):\n",
        "            if len(word) < 2:\n",
        "                continue\n",
        "            tokens.append(word.lower())\n",
        "    return tokens"
      ],
      "metadata": {
        "id": "aRoUnF9rHztj"
      },
      "execution_count": null,
      "outputs": []
    },
    {
      "cell_type": "code",
      "source": [
        "import nltk\n",
        "nltk.download('punkt')"
      ],
      "metadata": {
        "colab": {
          "base_uri": "https://localhost:8080/"
        },
        "id": "YiCfv65qIr8-",
        "outputId": "53a040d1-95e0-40ab-a31b-9b8effffa4b5"
      },
      "execution_count": null,
      "outputs": [
        {
          "output_type": "stream",
          "name": "stdout",
          "text": [
            "[nltk_data] Downloading package punkt to /root/nltk_data...\n",
            "[nltk_data]   Package punkt is already up-to-date!\n"
          ]
        },
        {
          "output_type": "execute_result",
          "data": {
            "text/plain": [
              "True"
            ]
          },
          "metadata": {},
          "execution_count": 11
        }
      ]
    },
    {
      "cell_type": "code",
      "source": [
        "tagged = df.apply(lambda r: TaggedDocument(words=tokenize_text(r['body_pp_4'] + r['title']), tags=[r.id, r.subreddit, r.title, r.author]), axis=1)"
      ],
      "metadata": {
        "id": "fZ3fL2Kw9KzM"
      },
      "execution_count": null,
      "outputs": []
    },
    {
      "cell_type": "code",
      "source": [
        "tagged = df.apply(lambda r: TaggedDocument(words=tokenize_text(r['body_pp_4'] + r['title']), tags=[r.id]), axis=1)"
      ],
      "metadata": {
        "id": "ZHzt0SCbZweL"
      },
      "execution_count": null,
      "outputs": []
    },
    {
      "cell_type": "code",
      "source": [
        "tagged[9]"
      ],
      "metadata": {
        "colab": {
          "base_uri": "https://localhost:8080/"
        },
        "id": "wv0BoB9rKIvm",
        "outputId": "a9d4bfd4-a685-40dd-c6e0-81c230dd222a"
      },
      "execution_count": null,
      "outputs": [
        {
          "output_type": "execute_result",
          "data": {
            "text/plain": [
              "TaggedDocument(words=['another', 'straw', 'man', 'always', 'instead', 'actually', 'addressing', 'issue', 'its', 'funny', 'go', 'dan', 'stans', 'turn', 'around', 'exact', 'thing', 'scomo'], tags=['hnmpw3z', 'CoronavirusDownunder', ['emails', 'reveal', 'pfizer', 'was', \"'enthusiastic\", 'to', 'engage', 'with', 'australia', 'about', 'covid-19', 'vaccine'], 'Nath280'])"
            ]
          },
          "metadata": {},
          "execution_count": 49
        }
      ]
    },
    {
      "cell_type": "code",
      "source": [
        "model = Doc2Vec(size=200, dbow_words= 1, dm=0, iter=1,  window=3, seed=1337, min_count=5, workers=4,alpha=0.025, min_alpha=0.025)\n",
        "model.build_vocab(tagged)\n",
        "for epoch in range(80):\n",
        "    print(\"epoch \"+str(epoch))\n",
        "    model.train(tagged, total_examples=len(df), epochs=1)\n",
        "    model.save('Doc2Vec_vacc_15.model')\n",
        "    model.alpha -= 0.001  # decrease the learning rate\n",
        "    model.min_alpha = model.alpha  # fix the learning rate, no decay"
      ],
      "metadata": {
        "colab": {
          "base_uri": "https://localhost:8080/"
        },
        "id": "P6jkFPR7KGAs",
        "outputId": "83c17380-cee5-4151-aa74-ec630e04f4a0"
      },
      "execution_count": null,
      "outputs": [
        {
          "output_type": "stream",
          "name": "stderr",
          "text": [
            "/usr/local/lib/python3.7/dist-packages/gensim/models/doc2vec.py:566: UserWarning: The parameter `iter` is deprecated, will be removed in 4.0.0, use `epochs` instead.\n",
            "  warnings.warn(\"The parameter `iter` is deprecated, will be removed in 4.0.0, use `epochs` instead.\")\n",
            "/usr/local/lib/python3.7/dist-packages/gensim/models/doc2vec.py:570: UserWarning: The parameter `size` is deprecated, will be removed in 4.0.0, use `vector_size` instead.\n",
            "  warnings.warn(\"The parameter `size` is deprecated, will be removed in 4.0.0, use `vector_size` instead.\")\n"
          ]
        },
        {
          "output_type": "stream",
          "name": "stdout",
          "text": [
            "epoch 0\n",
            "epoch 1\n",
            "epoch 2\n",
            "epoch 3\n",
            "epoch 4\n",
            "epoch 5\n",
            "epoch 6\n",
            "epoch 7\n",
            "epoch 8\n",
            "epoch 9\n",
            "epoch 10\n",
            "epoch 11\n",
            "epoch 12\n",
            "epoch 13\n",
            "epoch 14\n",
            "epoch 15\n",
            "epoch 16\n",
            "epoch 17\n",
            "epoch 18\n",
            "epoch 19\n",
            "epoch 20\n",
            "epoch 21\n",
            "epoch 22\n",
            "epoch 23\n",
            "epoch 24\n",
            "epoch 25\n",
            "epoch 26\n",
            "epoch 27\n",
            "epoch 28\n",
            "epoch 29\n",
            "epoch 30\n",
            "epoch 31\n",
            "epoch 32\n",
            "epoch 33\n",
            "epoch 34\n",
            "epoch 35\n",
            "epoch 36\n",
            "epoch 37\n",
            "epoch 38\n",
            "epoch 39\n",
            "epoch 40\n",
            "epoch 41\n",
            "epoch 42\n",
            "epoch 43\n",
            "epoch 44\n",
            "epoch 45\n",
            "epoch 46\n",
            "epoch 47\n",
            "epoch 48\n",
            "epoch 49\n",
            "epoch 50\n",
            "epoch 51\n",
            "epoch 52\n",
            "epoch 53\n",
            "epoch 54\n",
            "epoch 55\n",
            "epoch 56\n",
            "epoch 57\n",
            "epoch 58\n",
            "epoch 59\n",
            "epoch 60\n",
            "epoch 61\n",
            "epoch 62\n",
            "epoch 63\n",
            "epoch 64\n",
            "epoch 65\n",
            "epoch 66\n",
            "epoch 67\n",
            "epoch 68\n",
            "epoch 69\n",
            "epoch 70\n",
            "epoch 71\n",
            "epoch 72\n",
            "epoch 73\n",
            "epoch 74\n",
            "epoch 75\n",
            "epoch 76\n",
            "epoch 77\n",
            "epoch 78\n",
            "epoch 79\n"
          ]
        }
      ]
    },
    {
      "cell_type": "code",
      "source": [
        "similars = model.docvecs.most_similar(positive=[model.infer_vector(['conspiracy'])])\n",
        "print(similars)"
      ],
      "metadata": {
        "colab": {
          "base_uri": "https://localhost:8080/"
        },
        "id": "UkiJiQqHMmSE",
        "outputId": "ffb990a8-0202-4e5c-aa81-db4b73820a35"
      },
      "execution_count": null,
      "outputs": [
        {
          "output_type": "stream",
          "name": "stdout",
          "text": [
            "[('ParlerWatch', 0.6044207811355591), ('SD_03', 0.03871900960803032), ('h2dxn2z', 0.02791058085858822), ('h9r0f3j', -0.002755356952548027), ('h2ea2bp', -0.0048598796129226685), ('hfjfd8g', -0.0251601729542017), ('mushroompepporoni', -0.030445419251918793), ('hno2fi8', -0.07155387848615646), ('Riot419', -0.15922239422798157), ('hillaryclinternet', -0.31814295053482056)]\n"
          ]
        }
      ]
    },
    {
      "cell_type": "code",
      "source": [
        "model = Doc2Vec.load('Doc2Vec.model')"
      ],
      "metadata": {
        "colab": {
          "base_uri": "https://localhost:8080/",
          "height": 322
        },
        "id": "8s7kkoRXYB-q",
        "outputId": "e7f5b838-097c-419d-821b-d68ef1db72fa"
      },
      "execution_count": null,
      "outputs": [
        {
          "output_type": "error",
          "ename": "FileNotFoundError",
          "evalue": "ignored",
          "traceback": [
            "\u001b[0;31m---------------------------------------------------------------------------\u001b[0m",
            "\u001b[0;31mFileNotFoundError\u001b[0m                         Traceback (most recent call last)",
            "\u001b[0;32m<ipython-input-4-0dc5ef03372d>\u001b[0m in \u001b[0;36m<module>\u001b[0;34m()\u001b[0m\n\u001b[0;32m----> 1\u001b[0;31m \u001b[0mmodel\u001b[0m \u001b[0;34m=\u001b[0m \u001b[0mDoc2Vec\u001b[0m\u001b[0;34m.\u001b[0m\u001b[0mload\u001b[0m\u001b[0;34m(\u001b[0m\u001b[0;34m'Doc2Vec.model'\u001b[0m\u001b[0;34m)\u001b[0m\u001b[0;34m\u001b[0m\u001b[0;34m\u001b[0m\u001b[0m\n\u001b[0m",
            "\u001b[0;32m/usr/local/lib/python3.7/dist-packages/gensim/models/doc2vec.py\u001b[0m in \u001b[0;36mload\u001b[0;34m(cls, *args, **kwargs)\u001b[0m\n\u001b[1;32m   1090\u001b[0m         \"\"\"\n\u001b[1;32m   1091\u001b[0m         \u001b[0;32mtry\u001b[0m\u001b[0;34m:\u001b[0m\u001b[0;34m\u001b[0m\u001b[0;34m\u001b[0m\u001b[0m\n\u001b[0;32m-> 1092\u001b[0;31m             \u001b[0;32mreturn\u001b[0m \u001b[0msuper\u001b[0m\u001b[0;34m(\u001b[0m\u001b[0mDoc2Vec\u001b[0m\u001b[0;34m,\u001b[0m \u001b[0mcls\u001b[0m\u001b[0;34m)\u001b[0m\u001b[0;34m.\u001b[0m\u001b[0mload\u001b[0m\u001b[0;34m(\u001b[0m\u001b[0;34m*\u001b[0m\u001b[0margs\u001b[0m\u001b[0;34m,\u001b[0m \u001b[0;34m**\u001b[0m\u001b[0mkwargs\u001b[0m\u001b[0;34m)\u001b[0m\u001b[0;34m\u001b[0m\u001b[0;34m\u001b[0m\u001b[0m\n\u001b[0m\u001b[1;32m   1093\u001b[0m         \u001b[0;32mexcept\u001b[0m \u001b[0mAttributeError\u001b[0m\u001b[0;34m:\u001b[0m\u001b[0;34m\u001b[0m\u001b[0;34m\u001b[0m\u001b[0m\n\u001b[1;32m   1094\u001b[0m             \u001b[0mlogger\u001b[0m\u001b[0;34m.\u001b[0m\u001b[0minfo\u001b[0m\u001b[0;34m(\u001b[0m\u001b[0;34m'Model saved using code from earlier Gensim Version. Re-loading old model in a compatible way.'\u001b[0m\u001b[0;34m)\u001b[0m\u001b[0;34m\u001b[0m\u001b[0;34m\u001b[0m\u001b[0m\n",
            "\u001b[0;32m/usr/local/lib/python3.7/dist-packages/gensim/models/base_any2vec.py\u001b[0m in \u001b[0;36mload\u001b[0;34m(cls, *args, **kwargs)\u001b[0m\n\u001b[1;32m   1242\u001b[0m \u001b[0;34m\u001b[0m\u001b[0m\n\u001b[1;32m   1243\u001b[0m         \"\"\"\n\u001b[0;32m-> 1244\u001b[0;31m         \u001b[0mmodel\u001b[0m \u001b[0;34m=\u001b[0m \u001b[0msuper\u001b[0m\u001b[0;34m(\u001b[0m\u001b[0mBaseWordEmbeddingsModel\u001b[0m\u001b[0;34m,\u001b[0m \u001b[0mcls\u001b[0m\u001b[0;34m)\u001b[0m\u001b[0;34m.\u001b[0m\u001b[0mload\u001b[0m\u001b[0;34m(\u001b[0m\u001b[0;34m*\u001b[0m\u001b[0margs\u001b[0m\u001b[0;34m,\u001b[0m \u001b[0;34m**\u001b[0m\u001b[0mkwargs\u001b[0m\u001b[0;34m)\u001b[0m\u001b[0;34m\u001b[0m\u001b[0;34m\u001b[0m\u001b[0m\n\u001b[0m\u001b[1;32m   1245\u001b[0m         \u001b[0;32mif\u001b[0m \u001b[0;32mnot\u001b[0m \u001b[0mhasattr\u001b[0m\u001b[0;34m(\u001b[0m\u001b[0mmodel\u001b[0m\u001b[0;34m,\u001b[0m \u001b[0;34m'ns_exponent'\u001b[0m\u001b[0;34m)\u001b[0m\u001b[0;34m:\u001b[0m\u001b[0;34m\u001b[0m\u001b[0;34m\u001b[0m\u001b[0m\n\u001b[1;32m   1246\u001b[0m             \u001b[0mmodel\u001b[0m\u001b[0;34m.\u001b[0m\u001b[0mns_exponent\u001b[0m \u001b[0;34m=\u001b[0m \u001b[0;36m0.75\u001b[0m\u001b[0;34m\u001b[0m\u001b[0;34m\u001b[0m\u001b[0m\n",
            "\u001b[0;32m/usr/local/lib/python3.7/dist-packages/gensim/models/base_any2vec.py\u001b[0m in \u001b[0;36mload\u001b[0;34m(cls, fname_or_handle, **kwargs)\u001b[0m\n\u001b[1;32m    601\u001b[0m \u001b[0;34m\u001b[0m\u001b[0m\n\u001b[1;32m    602\u001b[0m         \"\"\"\n\u001b[0;32m--> 603\u001b[0;31m         \u001b[0;32mreturn\u001b[0m \u001b[0msuper\u001b[0m\u001b[0;34m(\u001b[0m\u001b[0mBaseAny2VecModel\u001b[0m\u001b[0;34m,\u001b[0m \u001b[0mcls\u001b[0m\u001b[0;34m)\u001b[0m\u001b[0;34m.\u001b[0m\u001b[0mload\u001b[0m\u001b[0;34m(\u001b[0m\u001b[0mfname_or_handle\u001b[0m\u001b[0;34m,\u001b[0m \u001b[0;34m**\u001b[0m\u001b[0mkwargs\u001b[0m\u001b[0;34m)\u001b[0m\u001b[0;34m\u001b[0m\u001b[0;34m\u001b[0m\u001b[0m\n\u001b[0m\u001b[1;32m    604\u001b[0m \u001b[0;34m\u001b[0m\u001b[0m\n\u001b[1;32m    605\u001b[0m     \u001b[0;32mdef\u001b[0m \u001b[0msave\u001b[0m\u001b[0;34m(\u001b[0m\u001b[0mself\u001b[0m\u001b[0;34m,\u001b[0m \u001b[0mfname_or_handle\u001b[0m\u001b[0;34m,\u001b[0m \u001b[0;34m**\u001b[0m\u001b[0mkwargs\u001b[0m\u001b[0;34m)\u001b[0m\u001b[0;34m:\u001b[0m\u001b[0;34m\u001b[0m\u001b[0;34m\u001b[0m\u001b[0m\n",
            "\u001b[0;32m/usr/local/lib/python3.7/dist-packages/gensim/utils.py\u001b[0m in \u001b[0;36mload\u001b[0;34m(cls, fname, mmap)\u001b[0m\n\u001b[1;32m    421\u001b[0m \u001b[0;34m\u001b[0m\u001b[0m\n\u001b[1;32m    422\u001b[0m         \u001b[0mobj\u001b[0m \u001b[0;34m=\u001b[0m \u001b[0munpickle\u001b[0m\u001b[0;34m(\u001b[0m\u001b[0mfname\u001b[0m\u001b[0;34m)\u001b[0m\u001b[0;34m\u001b[0m\u001b[0;34m\u001b[0m\u001b[0m\n\u001b[0;32m--> 423\u001b[0;31m         \u001b[0mobj\u001b[0m\u001b[0;34m.\u001b[0m\u001b[0m_load_specials\u001b[0m\u001b[0;34m(\u001b[0m\u001b[0mfname\u001b[0m\u001b[0;34m,\u001b[0m \u001b[0mmmap\u001b[0m\u001b[0;34m,\u001b[0m \u001b[0mcompress\u001b[0m\u001b[0;34m,\u001b[0m \u001b[0msubname\u001b[0m\u001b[0;34m)\u001b[0m\u001b[0;34m\u001b[0m\u001b[0;34m\u001b[0m\u001b[0m\n\u001b[0m\u001b[1;32m    424\u001b[0m         \u001b[0mlogger\u001b[0m\u001b[0;34m.\u001b[0m\u001b[0minfo\u001b[0m\u001b[0;34m(\u001b[0m\u001b[0;34m\"loaded %s\"\u001b[0m\u001b[0;34m,\u001b[0m \u001b[0mfname\u001b[0m\u001b[0;34m)\u001b[0m\u001b[0;34m\u001b[0m\u001b[0;34m\u001b[0m\u001b[0m\n\u001b[1;32m    425\u001b[0m         \u001b[0;32mreturn\u001b[0m \u001b[0mobj\u001b[0m\u001b[0;34m\u001b[0m\u001b[0;34m\u001b[0m\u001b[0m\n",
            "\u001b[0;32m/usr/local/lib/python3.7/dist-packages/gensim/utils.py\u001b[0m in \u001b[0;36m_load_specials\u001b[0;34m(self, fname, mmap, compress, subname)\u001b[0m\n\u001b[1;32m    451\u001b[0m             \u001b[0mcfname\u001b[0m \u001b[0;34m=\u001b[0m \u001b[0;34m'.'\u001b[0m\u001b[0;34m.\u001b[0m\u001b[0mjoin\u001b[0m\u001b[0;34m(\u001b[0m\u001b[0;34m(\u001b[0m\u001b[0mfname\u001b[0m\u001b[0;34m,\u001b[0m \u001b[0mattrib\u001b[0m\u001b[0;34m)\u001b[0m\u001b[0;34m)\u001b[0m\u001b[0;34m\u001b[0m\u001b[0;34m\u001b[0m\u001b[0m\n\u001b[1;32m    452\u001b[0m             \u001b[0mlogger\u001b[0m\u001b[0;34m.\u001b[0m\u001b[0minfo\u001b[0m\u001b[0;34m(\u001b[0m\u001b[0;34m\"loading %s recursively from %s.* with mmap=%s\"\u001b[0m\u001b[0;34m,\u001b[0m \u001b[0mattrib\u001b[0m\u001b[0;34m,\u001b[0m \u001b[0mcfname\u001b[0m\u001b[0;34m,\u001b[0m \u001b[0mmmap\u001b[0m\u001b[0;34m)\u001b[0m\u001b[0;34m\u001b[0m\u001b[0;34m\u001b[0m\u001b[0m\n\u001b[0;32m--> 453\u001b[0;31m             \u001b[0mgetattr\u001b[0m\u001b[0;34m(\u001b[0m\u001b[0mself\u001b[0m\u001b[0;34m,\u001b[0m \u001b[0mattrib\u001b[0m\u001b[0;34m)\u001b[0m\u001b[0;34m.\u001b[0m\u001b[0m_load_specials\u001b[0m\u001b[0;34m(\u001b[0m\u001b[0mcfname\u001b[0m\u001b[0;34m,\u001b[0m \u001b[0mmmap\u001b[0m\u001b[0;34m,\u001b[0m \u001b[0mcompress\u001b[0m\u001b[0;34m,\u001b[0m \u001b[0msubname\u001b[0m\u001b[0;34m)\u001b[0m\u001b[0;34m\u001b[0m\u001b[0;34m\u001b[0m\u001b[0m\n\u001b[0m\u001b[1;32m    454\u001b[0m \u001b[0;34m\u001b[0m\u001b[0m\n\u001b[1;32m    455\u001b[0m         \u001b[0;32mfor\u001b[0m \u001b[0mattrib\u001b[0m \u001b[0;32min\u001b[0m \u001b[0mgetattr\u001b[0m\u001b[0;34m(\u001b[0m\u001b[0mself\u001b[0m\u001b[0;34m,\u001b[0m \u001b[0;34m'__numpys'\u001b[0m\u001b[0;34m,\u001b[0m \u001b[0;34m[\u001b[0m\u001b[0;34m]\u001b[0m\u001b[0;34m)\u001b[0m\u001b[0;34m:\u001b[0m\u001b[0;34m\u001b[0m\u001b[0;34m\u001b[0m\u001b[0m\n",
            "\u001b[0;32m/usr/local/lib/python3.7/dist-packages/gensim/utils.py\u001b[0m in \u001b[0;36m_load_specials\u001b[0;34m(self, fname, mmap, compress, subname)\u001b[0m\n\u001b[1;32m    462\u001b[0m                 \u001b[0mval\u001b[0m \u001b[0;34m=\u001b[0m \u001b[0mnp\u001b[0m\u001b[0;34m.\u001b[0m\u001b[0mload\u001b[0m\u001b[0;34m(\u001b[0m\u001b[0msubname\u001b[0m\u001b[0;34m(\u001b[0m\u001b[0mfname\u001b[0m\u001b[0;34m,\u001b[0m \u001b[0mattrib\u001b[0m\u001b[0;34m)\u001b[0m\u001b[0;34m)\u001b[0m\u001b[0;34m[\u001b[0m\u001b[0;34m'val'\u001b[0m\u001b[0;34m]\u001b[0m\u001b[0;34m\u001b[0m\u001b[0;34m\u001b[0m\u001b[0m\n\u001b[1;32m    463\u001b[0m             \u001b[0;32melse\u001b[0m\u001b[0;34m:\u001b[0m\u001b[0;34m\u001b[0m\u001b[0;34m\u001b[0m\u001b[0m\n\u001b[0;32m--> 464\u001b[0;31m                 \u001b[0mval\u001b[0m \u001b[0;34m=\u001b[0m \u001b[0mnp\u001b[0m\u001b[0;34m.\u001b[0m\u001b[0mload\u001b[0m\u001b[0;34m(\u001b[0m\u001b[0msubname\u001b[0m\u001b[0;34m(\u001b[0m\u001b[0mfname\u001b[0m\u001b[0;34m,\u001b[0m \u001b[0mattrib\u001b[0m\u001b[0;34m)\u001b[0m\u001b[0;34m,\u001b[0m \u001b[0mmmap_mode\u001b[0m\u001b[0;34m=\u001b[0m\u001b[0mmmap\u001b[0m\u001b[0;34m)\u001b[0m\u001b[0;34m\u001b[0m\u001b[0;34m\u001b[0m\u001b[0m\n\u001b[0m\u001b[1;32m    465\u001b[0m \u001b[0;34m\u001b[0m\u001b[0m\n\u001b[1;32m    466\u001b[0m             \u001b[0msetattr\u001b[0m\u001b[0;34m(\u001b[0m\u001b[0mself\u001b[0m\u001b[0;34m,\u001b[0m \u001b[0mattrib\u001b[0m\u001b[0;34m,\u001b[0m \u001b[0mval\u001b[0m\u001b[0;34m)\u001b[0m\u001b[0;34m\u001b[0m\u001b[0;34m\u001b[0m\u001b[0m\n",
            "\u001b[0;32m/usr/local/lib/python3.7/dist-packages/numpy/lib/npyio.py\u001b[0m in \u001b[0;36mload\u001b[0;34m(file, mmap_mode, allow_pickle, fix_imports, encoding)\u001b[0m\n\u001b[1;32m    414\u001b[0m             \u001b[0mown_fid\u001b[0m \u001b[0;34m=\u001b[0m \u001b[0;32mFalse\u001b[0m\u001b[0;34m\u001b[0m\u001b[0;34m\u001b[0m\u001b[0m\n\u001b[1;32m    415\u001b[0m         \u001b[0;32melse\u001b[0m\u001b[0;34m:\u001b[0m\u001b[0;34m\u001b[0m\u001b[0;34m\u001b[0m\u001b[0m\n\u001b[0;32m--> 416\u001b[0;31m             \u001b[0mfid\u001b[0m \u001b[0;34m=\u001b[0m \u001b[0mstack\u001b[0m\u001b[0;34m.\u001b[0m\u001b[0menter_context\u001b[0m\u001b[0;34m(\u001b[0m\u001b[0mopen\u001b[0m\u001b[0;34m(\u001b[0m\u001b[0mos_fspath\u001b[0m\u001b[0;34m(\u001b[0m\u001b[0mfile\u001b[0m\u001b[0;34m)\u001b[0m\u001b[0;34m,\u001b[0m \u001b[0;34m\"rb\"\u001b[0m\u001b[0;34m)\u001b[0m\u001b[0;34m)\u001b[0m\u001b[0;34m\u001b[0m\u001b[0;34m\u001b[0m\u001b[0m\n\u001b[0m\u001b[1;32m    417\u001b[0m             \u001b[0mown_fid\u001b[0m \u001b[0;34m=\u001b[0m \u001b[0;32mTrue\u001b[0m\u001b[0;34m\u001b[0m\u001b[0;34m\u001b[0m\u001b[0m\n\u001b[1;32m    418\u001b[0m \u001b[0;34m\u001b[0m\u001b[0m\n",
            "\u001b[0;31mFileNotFoundError\u001b[0m: [Errno 2] No such file or directory: 'Doc2Vec.model.docvecs.vectors_docs.npy'"
          ]
        }
      ]
    },
    {
      "cell_type": "code",
      "source": [
        ""
      ],
      "metadata": {
        "id": "yrEm9VQKpKXA"
      },
      "execution_count": null,
      "outputs": []
    },
    {
      "cell_type": "code",
      "source": [
        "text = df.body_pp_4.str.split()"
      ],
      "metadata": {
        "id": "z5EPadpgpKTb"
      },
      "execution_count": null,
      "outputs": []
    },
    {
      "cell_type": "code",
      "source": [
        "text"
      ],
      "metadata": {
        "colab": {
          "base_uri": "https://localhost:8080/"
        },
        "id": "lvW-PE90pKR7",
        "outputId": "c441e618-c343-444b-fa76-b9c45eb5164f"
      },
      "execution_count": null,
      "outputs": [
        {
          "output_type": "execute_result",
          "data": {
            "text/plain": [
              "0         [course, emails, hunt, resigned, knew, would, ...\n",
              "1                                           [scomo, fucked]\n",
              "2         [imagine, lockdown, could, avoided, slime, min...\n",
              "3         [really, hope, fuck, cost, scomo, lnp, electio...\n",
              "4         [would, lot, easier, forgive, governments, stu...\n",
              "                                ...                        \n",
              "219851    [>searching, positive, male, role, model, life...\n",
              "219852    [>, travis, character, way, men, struggling, w...\n",
              "219853                                       [hammer, yeah]\n",
              "219854    [oh, yes, thanks, noticed, that, never, heard,...\n",
              "219855                                      [absolutely, :]\n",
              "Name: body_pp_4, Length: 219856, dtype: object"
            ]
          },
          "metadata": {},
          "execution_count": 18
        }
      ]
    },
    {
      "cell_type": "code",
      "source": [
        "w2v_model = gensim.models.Word2Vec(\n",
        "    window = 4,\n",
        "    min_count = 2,\n",
        "    workers = 4\n",
        ")"
      ],
      "metadata": {
        "id": "M-JKyiYzpeu9"
      },
      "execution_count": null,
      "outputs": []
    },
    {
      "cell_type": "code",
      "source": [
        "del w2v_model"
      ],
      "metadata": {
        "id": "35GyDUF6q0H-"
      },
      "execution_count": null,
      "outputs": []
    },
    {
      "cell_type": "code",
      "source": [
        "w2v_model.build_vocab(text, progress_per = 1000)\n",
        "w2v_model.epochs = 100"
      ],
      "metadata": {
        "id": "i_uiKncxperd"
      },
      "execution_count": null,
      "outputs": []
    },
    {
      "cell_type": "code",
      "source": [
        "w2v_model.corpus_count"
      ],
      "metadata": {
        "colab": {
          "base_uri": "https://localhost:8080/"
        },
        "id": "ZWZLvLMmpepj",
        "outputId": "dc74b1ea-7efd-4ed2-9763-836835996818"
      },
      "execution_count": null,
      "outputs": [
        {
          "output_type": "execute_result",
          "data": {
            "text/plain": [
              "219856"
            ]
          },
          "metadata": {},
          "execution_count": 21
        }
      ]
    },
    {
      "cell_type": "code",
      "source": [
        "w2v_model.train(text, total_examples = w2v_model.corpus_count, epochs = 100)"
      ],
      "metadata": {
        "colab": {
          "base_uri": "https://localhost:8080/"
        },
        "id": "yxuDeoxypekY",
        "outputId": "d980457c-39bb-4741-d00e-efe0af3a101c"
      },
      "execution_count": null,
      "outputs": [
        {
          "output_type": "execute_result",
          "data": {
            "text/plain": [
              "(447900349, 479531300)"
            ]
          },
          "metadata": {},
          "execution_count": 22
        }
      ]
    },
    {
      "cell_type": "code",
      "source": [
        "w2v_model.save('w2v2.model')"
      ],
      "metadata": {
        "id": "SJsa7GSUrbBU"
      },
      "execution_count": null,
      "outputs": []
    },
    {
      "cell_type": "code",
      "source": [
        "w2v_model.most_similar('complications', topn = 50)"
      ],
      "metadata": {
        "colab": {
          "base_uri": "https://localhost:8080/"
        },
        "id": "hVFUL4lWqL18",
        "outputId": "575ce8e2-6d0d-497e-a255-e06c1808f52c"
      },
      "execution_count": null,
      "outputs": [
        {
          "output_type": "stream",
          "name": "stderr",
          "text": [
            "/usr/local/lib/python3.7/dist-packages/ipykernel_launcher.py:1: DeprecationWarning: Call to deprecated `most_similar` (Method will be removed in 4.0.0, use self.wv.most_similar() instead).\n",
            "  \"\"\"Entry point for launching an IPython kernel.\n"
          ]
        },
        {
          "output_type": "execute_result",
          "data": {
            "text/plain": [
              "[('complication', 0.7471787929534912),\n",
              " ('myocarditis', 0.575736403465271),\n",
              " ('symptom', 0.5588468313217163),\n",
              " ('symptoms', 0.5587630271911621),\n",
              " ('hospitalized', 0.5362088680267334),\n",
              " ('effects', 0.5315114259719849),\n",
              " ('effect', 0.5313609838485718),\n",
              " ('illness', 0.5312471389770508),\n",
              " ('asthma', 0.5173354148864746),\n",
              " ('comorbidity', 0.5168099403381348),\n",
              " ('illnesses', 0.5125764608383179),\n",
              " ('neurologic', 0.5024263262748718),\n",
              " ('severe', 0.49865826964378357),\n",
              " ('allergies', 0.4982668459415436),\n",
              " ('debilitating', 0.49582797288894653),\n",
              " ('injury', 0.490342915058136),\n",
              " ('clot', 0.4859618544578552),\n",
              " ('adverse', 0.4842502772808075),\n",
              " ('side-effects', 0.4842219054698944),\n",
              " ('comorbidities', 0.48161065578460693),\n",
              " ('pericarditis', 0.4771282374858856),\n",
              " ('contraindication', 0.4734051525592804),\n",
              " ('neurological', 0.46981269121170044),\n",
              " ('conditions', 0.4685911536216736),\n",
              " ('condition', 0.46547165513038635),\n",
              " ('scarring', 0.4609470069408417),\n",
              " ('risk', 0.46071991324424744),\n",
              " ('issues', 0.4574918746948242),\n",
              " ('casesside-effectslong-term', 0.4569188952445984),\n",
              " ('damage', 0.4553411900997162),\n",
              " ('auto-immune', 0.45139849185943604),\n",
              " ('sequela', 0.4512886703014374),\n",
              " ('undercount', 0.44738489389419556),\n",
              " ('problems', 0.44438958168029785),\n",
              " ('life-threatening', 0.44390150904655457),\n",
              " ('guillain-barre', 0.43895262479782104),\n",
              " ('recipient', 0.43797412514686584),\n",
              " ('pulmonary', 0.4349013566970825),\n",
              " ('covid', 0.4333232343196869),\n",
              " ('shingle', 0.43320614099502563),\n",
              " ('dysfunction', 0.432810515165329),\n",
              " ('illnessdeath', 0.42826220393180847),\n",
              " ('pregnancy', 0.42803606390953064),\n",
              " ('reaction', 0.42790764570236206),\n",
              " ('rare', 0.4263758957386017),\n",
              " ('cancer', 0.42623215913772583),\n",
              " ('serious', 0.4261621832847595),\n",
              " ('artesunate', 0.4258047342300415),\n",
              " ('reactivation', 0.42499467730522156),\n",
              " ('immunocompromised', 0.4240886867046356)]"
            ]
          },
          "metadata": {},
          "execution_count": 33
        }
      ]
    },
    {
      "cell_type": "code",
      "source": [
        "w2v_model.wv.most_similar(positive = [\"side\", \"effect\"], topn = 30)"
      ],
      "metadata": {
        "colab": {
          "base_uri": "https://localhost:8080/"
        },
        "id": "aaG7nv_exlaN",
        "outputId": "ac8feaab-cbfd-48f4-b798-62e0994d5af4"
      },
      "execution_count": null,
      "outputs": [
        {
          "output_type": "execute_result",
          "data": {
            "text/plain": [
              "[('effects', 0.7395542860031128),\n",
              " ('side-effects', 0.6365437507629395),\n",
              " ('reaction', 0.6334787011146545),\n",
              " ('complication', 0.5998677015304565),\n",
              " ('symptom', 0.5759552717208862),\n",
              " ('symptoms', 0.5621201992034912),\n",
              " ('affects', 0.5605800151824951),\n",
              " ('reactions', 0.5554724931716919),\n",
              " ('adverse', 0.5505796670913696),\n",
              " ('complications', 0.5456244945526123),\n",
              " ('\"side', 0.5261719226837158),\n",
              " ('side-effect', 0.5221983790397644),\n",
              " ('myocarditis', 0.5194922685623169),\n",
              " ('effects\"', 0.5034385919570923),\n",
              " ('long-term', 0.49193665385246277),\n",
              " ('outcome', 0.4860057830810547),\n",
              " ('long-lasting', 0.46791696548461914),\n",
              " ('lasting', 0.46281272172927856),\n",
              " ('clot', 0.451691210269928),\n",
              " ('term', 0.44053229689598083),\n",
              " ('long-haul', 0.4384503662586212),\n",
              " ('flare', 0.43765556812286377),\n",
              " ('mild', 0.4349224865436554),\n",
              " ('debilitating', 0.4341469705104828),\n",
              " ('affect', 0.4325489401817322),\n",
              " ('effects…', 0.4298357367515564),\n",
              " ('illness', 0.4282490611076355),\n",
              " ('longterm', 0.4258002042770386),\n",
              " ('very', 0.42489728331565857),\n",
              " ('soreness', 0.4246200621128082)]"
            ]
          },
          "metadata": {},
          "execution_count": 39
        }
      ]
    },
    {
      "cell_type": "code",
      "source": [
        "w2v_model.wv.most_similar(\"conspiracy\", topn = 50)"
      ],
      "metadata": {
        "colab": {
          "base_uri": "https://localhost:8080/"
        },
        "id": "yqBZSEpXxvWu",
        "outputId": "d084df1c-a9fd-437e-80c9-aad039d830dd"
      },
      "execution_count": null,
      "outputs": [
        {
          "output_type": "execute_result",
          "data": {
            "text/plain": [
              "[('qanon', 0.6825639009475708),\n",
              " ('complicity', 0.663777232170105),\n",
              " ('deadman', 0.5861586332321167),\n",
              " ('crackpot', 0.5524335503578186),\n",
              " ('lab-leak', 0.5412991046905518),\n",
              " ('nonsense', 0.5404069423675537),\n",
              " ('propaganda', 0.5386761426925659),\n",
              " ('conspiracies', 0.5362856984138489),\n",
              " ('conspiratorial', 0.5313394069671631),\n",
              " ('\"conspiracy', 0.5202805995941162),\n",
              " ('q', 0.519848644733429),\n",
              " ('crazy', 0.5170199871063232),\n",
              " ('weirdo', 0.5118709802627563),\n",
              " ('theory', 0.5048273205757141),\n",
              " ('bullshit', 0.5027326345443726),\n",
              " ('belief', 0.49035578966140747),\n",
              " ('pseudoscience', 0.4879256784915924),\n",
              " ('horseshit', 0.48712944984436035),\n",
              " ('anti-vax', 0.48140034079551697),\n",
              " ('\"necessary\"', 0.4686968922615051),\n",
              " ('misinformation', 0.460904985666275),\n",
              " ('q-anon', 0.45859456062316895),\n",
              " ('nutter', 0.45166927576065063),\n",
              " ('right-wing', 0.44802847504615784),\n",
              " ('origination', 0.4479939937591553),\n",
              " ('falsehood', 0.447714626789093),\n",
              " ('narrative', 0.44571956992149353),\n",
              " ('anti-vaxx', 0.443324476480484),\n",
              " ('alt-right', 0.4412912130355835),\n",
              " ('antivax', 0.44068288803100586),\n",
              " ('anti-vaccine', 0.4386327862739563),\n",
              " ('raving', 0.4371558427810669),\n",
              " ('germ', 0.43690866231918335),\n",
              " ('crazies', 0.4353752136230469),\n",
              " ('ideology', 0.4347766637802124),\n",
              " ('spoon-fed', 0.43370968103408813),\n",
              " ('gullible', 0.4299505650997162),\n",
              " ('internet', 0.4294706881046295),\n",
              " ('antivaxx', 0.42924588918685913),\n",
              " ('bs', 0.427959680557251),\n",
              " ('antivaxxers', 0.4276998043060303),\n",
              " ('propagates', 0.42706549167633057),\n",
              " ('anti-science', 0.42445966601371765),\n",
              " ('antivaxer', 0.4222833514213562),\n",
              " ('spout', 0.4221939444541931),\n",
              " ('politics', 0.4213462769985199),\n",
              " ('debunking', 0.4208054542541504),\n",
              " ('redpilling', 0.420343279838562),\n",
              " ('grifters', 0.42020082473754883),\n",
              " ('extremist', 0.41831421852111816)]"
            ]
          },
          "metadata": {},
          "execution_count": 41
        }
      ]
    },
    {
      "cell_type": "code",
      "source": [
        "w2v_model.wv.most_similar(\"complications\")"
      ],
      "metadata": {
        "colab": {
          "base_uri": "https://localhost:8080/"
        },
        "id": "LQMrVMmlx0By",
        "outputId": "7086d150-92a9-49ee-94bd-bae009616668"
      },
      "execution_count": null,
      "outputs": [
        {
          "output_type": "execute_result",
          "data": {
            "text/plain": [
              "[('complication', 0.7970740795135498),\n",
              " ('myocarditis', 0.6171822547912598),\n",
              " ('side-effects', 0.6135694980621338),\n",
              " ('neurological', 0.6042200326919556),\n",
              " ('asthma', 0.5935596227645874),\n",
              " ('effect', 0.5923874974250793),\n",
              " ('effects', 0.5782551765441895),\n",
              " ('neurologic', 0.5730143189430237),\n",
              " ('symptom', 0.5700149536132812),\n",
              " ('illnesses', 0.5650389194488525)]"
            ]
          },
          "metadata": {},
          "execution_count": 29
        }
      ]
    },
    {
      "cell_type": "code",
      "source": [
        "w2v_model.wv.most_similar(positive = [\"distribution\", \"bad\"], topn = 50)"
      ],
      "metadata": {
        "colab": {
          "base_uri": "https://localhost:8080/"
        },
        "id": "0lvtxwlDyCKH",
        "outputId": "ac54a5cb-0176-4c7d-98ee-068f2ab074af"
      },
      "execution_count": null,
      "outputs": [
        {
          "output_type": "execute_result",
          "data": {
            "text/plain": [
              "[('good', 0.555018961429596),\n",
              " ('terrible', 0.4945800304412842),\n",
              " ('well', 0.45703330636024475),\n",
              " ('logistics', 0.45200246572494507),\n",
              " ('distributing', 0.4470675587654114),\n",
              " ('ramping', 0.44687262177467346),\n",
              " ('ramp', 0.43572041392326355),\n",
              " ('rollout', 0.4356788396835327),\n",
              " ('production', 0.4341040849685669),\n",
              " ('fair', 0.42851918935775757),\n",
              " ('fast', 0.4267268776893616),\n",
              " ('certainly', 0.4260709285736084),\n",
              " ('similar', 0.42175519466400146),\n",
              " ('manufacturing', 0.421093225479126),\n",
              " ('slow', 0.42059358954429626),\n",
              " ('supply', 0.416046679019928),\n",
              " ('poor', 0.4071093797683716),\n",
              " ('better', 0.40677958726882935),\n",
              " ('great', 0.40582066774368286),\n",
              " ('accelerate', 0.40472567081451416),\n",
              " ('much', 0.40447795391082764),\n",
              " ('handling', 0.398689866065979),\n",
              " ('allocate', 0.3978491425514221),\n",
              " ('perfect', 0.3969457149505615),\n",
              " ('horrible', 0.396670937538147),\n",
              " ('happening', 0.3946995139122009),\n",
              " ('logistical', 0.3928965926170349),\n",
              " ('improve', 0.3902639150619507),\n",
              " ('complicate', 0.38901832699775696),\n",
              " ('distribute', 0.3884056806564331),\n",
              " ('lot', 0.38593462109565735),\n",
              " ('problem', 0.3839278817176819),\n",
              " ('actually', 0.38268840312957764),\n",
              " ('roll-out', 0.38013356924057007),\n",
              " ('overall', 0.37933677434921265),\n",
              " ('clear', 0.3785831332206726),\n",
              " ('complicated', 0.37511736154556274),\n",
              " ('worse', 0.3741995096206665),\n",
              " ('equitable', 0.3728591799736023),\n",
              " ('prioritized', 0.3726067543029785),\n",
              " ('prioritizing', 0.37168413400650024),\n",
              " ('promising', 0.3700481355190277),\n",
              " ('constraint', 0.36768218874931335),\n",
              " ('differently', 0.3667071461677551),\n",
              " ('scarce', 0.3659553527832031),\n",
              " ('decent', 0.3656858503818512),\n",
              " ('abysmal', 0.36550772190093994),\n",
              " ('scale', 0.36536628007888794),\n",
              " ('general', 0.3644423186779022),\n",
              " ('efficiently', 0.3631606101989746)]"
            ]
          },
          "metadata": {},
          "execution_count": 44
        }
      ]
    },
    {
      "cell_type": "code",
      "source": [
        "w2v_model.wv.most_similar(positive = [\"vaccine\"], negative = [\"india\"])"
      ],
      "metadata": {
        "colab": {
          "base_uri": "https://localhost:8080/"
        },
        "id": "mXuZAQyyyGAm",
        "outputId": "250d9dcd-972a-4b7e-9605-95a982777c79"
      },
      "execution_count": null,
      "outputs": [
        {
          "output_type": "execute_result",
          "data": {
            "text/plain": [
              "[('vax', 0.5646072030067444),\n",
              " ('shot', 0.5167040824890137),\n",
              " ('vaccines', 0.49471163749694824),\n",
              " ('jab', 0.4817871153354645),\n",
              " ('vaccination', 0.4740978479385376),\n",
              " ('shots', 0.47020137310028076),\n",
              " ('either', 0.4646610617637634),\n",
              " ('vaccinated', 0.4590862989425659),\n",
              " ('whether', 0.44043639302253723),\n",
              " ('vaccine\"', 0.42853423953056335)]"
            ]
          },
          "metadata": {},
          "execution_count": 49
        }
      ]
    },
    {
      "cell_type": "code",
      "source": [
        "w2v_model.wv.most_similar(\"omicron\", topn = 50)"
      ],
      "metadata": {
        "colab": {
          "base_uri": "https://localhost:8080/"
        },
        "id": "GJtuc1zxyJB7",
        "outputId": "3c4dc475-db2a-4415-bcfb-27eb2d4e45c2"
      },
      "execution_count": null,
      "outputs": [
        {
          "output_type": "execute_result",
          "data": {
            "text/plain": [
              "[('variant', 0.7861006259918213),\n",
              " ('variants', 0.7181830406188965),\n",
              " ('delta', 0.6915205717086792),\n",
              " ('strain', 0.6353638172149658),\n",
              " ('antibody', 0.610032856464386),\n",
              " ('alpha', 0.57990562915802),\n",
              " ('varient', 0.570019006729126),\n",
              " ('strains', 0.567523717880249),\n",
              " ('b1351', 0.5600037574768066),\n",
              " ('mutation', 0.5455003380775452),\n",
              " ('d614g', 0.5448943376541138),\n",
              " ('neutralizing', 0.5435523390769958),\n",
              " ('neutralization', 0.5431193709373474),\n",
              " ('mutations', 0.5429086685180664),\n",
              " ('booster', 0.5261648893356323),\n",
              " ('voc', 0.5234107375144958),\n",
              " ('mutant', 0.5203320384025574),\n",
              " ('p1', 0.5171103477478027),\n",
              " ('infection', 0.5133106708526611),\n",
              " ('transmissible', 0.5126519203186035),\n",
              " ('effectiveness', 0.5120997428894043),\n",
              " ('beta', 0.5119048357009888),\n",
              " ('antibodies', 0.5111491084098816),\n",
              " ('sars-cov-2', 0.506589949131012),\n",
              " ('j&j', 0.5064763426780701),\n",
              " ('neutralizes', 0.502124011516571),\n",
              " ('kappa', 0.500365138053894),\n",
              " ('omnicron', 0.5000152587890625),\n",
              " ('sa', 0.4980686604976654),\n",
              " ('b117', 0.4977100193500519),\n",
              " ('virus', 0.4922231137752533),\n",
              " ('efficacy', 0.49165597558021545),\n",
              " ('titer', 0.48775815963745117),\n",
              " ('evades', 0.48669564723968506),\n",
              " ('wildtype', 0.4810868501663208),\n",
              " ('vocs', 0.4782460331916809),\n",
              " ('spike', 0.47783687710762024),\n",
              " ('gamma', 0.4773466885089874),\n",
              " ('varients', 0.4763048589229584),\n",
              " ('transmissibility', 0.4746071696281433),\n",
              " ('mrna', 0.47330784797668457),\n",
              " ('hospitalization', 0.4716511368751526),\n",
              " ('fallwinter', 0.4708618223667145),\n",
              " ('variant-specific', 0.47051286697387695),\n",
              " ('nouveau', 0.4704030454158783),\n",
              " ('surge', 0.4698594808578491),\n",
              " ('heterologous', 0.4686148762702942),\n",
              " ('priori', 0.46552443504333496),\n",
              " ('immune', 0.46498164534568787),\n",
              " ('k417n', 0.46457648277282715)]"
            ]
          },
          "metadata": {},
          "execution_count": 51
        }
      ]
    },
    {
      "cell_type": "code",
      "source": [
        "w2v_model.wv.most_similar(\"mandate\")"
      ],
      "metadata": {
        "colab": {
          "base_uri": "https://localhost:8080/"
        },
        "id": "sLxLbzLVyRwT",
        "outputId": "98e051e1-6842-4e15-d5e5-3312f4b1e9ce"
      },
      "execution_count": null,
      "outputs": [
        {
          "output_type": "execute_result",
          "data": {
            "text/plain": [
              "[('mandates', 0.8205986618995667),\n",
              " ('mandated', 0.6724334359169006),\n",
              " ('mandating', 0.6711333394050598),\n",
              " ('mandatory', 0.6360436677932739),\n",
              " ('policy', 0.6352285742759705),\n",
              " ('enforce', 0.6313526630401611),\n",
              " ('requirement', 0.6021889448165894),\n",
              " ('passports', 0.5926445722579956),\n",
              " ('requiring', 0.571552038192749),\n",
              " ('osha', 0.5547534823417664)]"
            ]
          },
          "metadata": {},
          "execution_count": 52
        }
      ]
    },
    {
      "cell_type": "code",
      "source": [
        "w2v_model.wv.most_similar(\"antivax\", topn = 30)"
      ],
      "metadata": {
        "colab": {
          "base_uri": "https://localhost:8080/"
        },
        "id": "dB_1ZyEJsVz2",
        "outputId": "05a22919-15af-47bc-e62a-5d32845ad8d1"
      },
      "execution_count": null,
      "outputs": [
        {
          "output_type": "execute_result",
          "data": {
            "text/plain": [
              "[('anti-vax', 0.821255624294281),\n",
              " ('anti-vaxx', 0.757702112197876),\n",
              " ('antivaxx', 0.642516016960144),\n",
              " ('anti-vaccine', 0.637732744216919),\n",
              " ('anti-vaxxers', 0.6025864481925964),\n",
              " ('q', 0.5716720819473267),\n",
              " ('anti-vaxxer', 0.560082733631134),\n",
              " ('anti-mask', 0.5485765337944031),\n",
              " ('anti-science', 0.5483241081237793),\n",
              " ('antivaxxers', 0.5411434769630432),\n",
              " ('spews', 0.5315593481063843),\n",
              " ('pro-vax', 0.52574622631073),\n",
              " ('anti', 0.5236144065856934),\n",
              " ('trumper', 0.5059484839439392),\n",
              " ('antivaxxer', 0.5037360787391663),\n",
              " ('facebook', 0.4979485273361206),\n",
              " ('idiot', 0.4902229309082031),\n",
              " ('pro-trump', 0.48983755707740784),\n",
              " ('anti-vac', 0.48402783274650574),\n",
              " ('cultist', 0.47690558433532715),\n",
              " ('qanon', 0.47457754611968994),\n",
              " ('fringe', 0.47316431999206543),\n",
              " ('hardcore', 0.47185298800468445),\n",
              " ('adamantly', 0.46890750527381897),\n",
              " ('q-anon', 0.4687976539134979),\n",
              " ('brainwashed', 0.4567398130893707),\n",
              " ('conspiratorial', 0.4564148187637329),\n",
              " ('religious', 0.4552445709705353),\n",
              " ('vocal', 0.4551471471786499),\n",
              " ('alt-right', 0.45234471559524536)]"
            ]
          },
          "metadata": {},
          "execution_count": 55
        }
      ]
    },
    {
      "cell_type": "code",
      "source": [
        "w2v_model.wv.most_similar(\"death\", topn = 30)"
      ],
      "metadata": {
        "colab": {
          "base_uri": "https://localhost:8080/"
        },
        "id": "ZuE27yi_soLy",
        "outputId": "de19a76d-baa7-4a81-80d8-87b8d624b4a2"
      },
      "execution_count": null,
      "outputs": [
        {
          "output_type": "execute_result",
          "data": {
            "text/plain": [
              "[('deaths', 0.7965793013572693),\n",
              " ('mortality', 0.7120257616043091),\n",
              " ('hospitalization', 0.6523573398590088),\n",
              " ('fatality', 0.635346531867981),\n",
              " ('case', 0.6069298982620239),\n",
              " ('dying', 0.5994061231613159),\n",
              " ('hospitalisation', 0.5902340412139893),\n",
              " ('incidence', 0.5683985948562622),\n",
              " ('hospitalizations', 0.5622308850288391),\n",
              " ('hospitalized', 0.5361501574516296),\n",
              " ('infection', 0.5323406457901001),\n",
              " ('cases', 0.5182589292526245),\n",
              " ('myocarditis', 0.508224368095398),\n",
              " ('deaths**', 0.504592776298523),\n",
              " ('died', 0.4966011643409729),\n",
              " ('0-18', 0.49401283264160156),\n",
              " ('reinfection', 0.4928533434867859),\n",
              " ('781', 0.4883345067501068),\n",
              " ('infections', 0.48816201090812683),\n",
              " ('deaths\"', 0.4868641197681427),\n",
              " ('suffering', 0.48555904626846313),\n",
              " ('casualty', 0.4783424139022827),\n",
              " ('with-covid', 0.4761310815811157),\n",
              " ('complication', 0.47089073061943054),\n",
              " ('icu', 0.47015589475631714),\n",
              " ('dieing', 0.4676567018032074),\n",
              " ('lethality', 0.46499937772750854),\n",
              " ('miscarriage', 0.45536500215530396),\n",
              " ('survival', 0.45484459400177),\n",
              " ('fatal', 0.45474979281425476)]"
            ]
          },
          "metadata": {},
          "execution_count": 57
        }
      ]
    },
    {
      "cell_type": "code",
      "source": [
        ""
      ],
      "metadata": {
        "id": "QTsUo8Ovs1FY"
      },
      "execution_count": null,
      "outputs": []
    }
  ]
}